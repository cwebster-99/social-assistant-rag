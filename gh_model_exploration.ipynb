{
 "cells": [
  {
   "cell_type": "markdown",
   "metadata": {},
   "source": [
    "# RAG exploration\n",
    "\n",
    "![goal_post](goal_post.png)"
   ]
  },
  {
   "cell_type": "markdown",
   "metadata": {},
   "source": [
    "## 🤖 Social assistant, with **off the shelf model**"
   ]
  },
  {
   "cell_type": "code",
   "execution_count": 1,
   "metadata": {},
   "outputs": [],
   "source": [
    "url='https://microsoftfabric.devpost.com/'"
   ]
  },
  {
   "cell_type": "code",
   "execution_count": 2,
   "metadata": {},
   "outputs": [
    {
     "name": "stdout",
     "output_type": "stream",
     "text": [
      "{\n",
      "    \"content\": \"\\n\\n\\n\\n  \\n\\n\\n\\n\\n\\n\\n\\n\\n\\n\\nMicrosoft Fabric and AI Learning Hackathon: Building the next wave of innovative AI powered data analytics applications with Microsoft Fabric - Devpost\\n\\n\\n\\n\\n\\n\\n\\n\\n\\n\\n\\n\\n\\n\\n\\n\\n\\n\\n\\n\\n\\n\\n\\n\\n\\n\\n\\n\\n\\n\\n\\n\\n\\n\\n\\n\\n\\n\\n\\n\\n \\n\\n\\n\\n\\n\\n\\n\\n\\n\\n\\n\\n\\n\\n\\n\\n\\n\\n\\n \\n\\n\\n\\n\\n      Log in\\n \\n\\n\\n\\n        Sign up\\n      \\n \\n\\n\\n\\n\\n\\n\\n\\n\\n\\n\\n\\n\\n\\n\\nDevpost\\n\\n\\nHackathons\\nProjects\\nHost a public hackathon\\n\\n\\n\\n\\n\\n\\nDevpost for Teams\\n\\n\\nTeams login\\nRequest a demo\\n\\n\\n\\n\\n\\n    Hackathons\\n\\n\\n\\n\\n    Projects\\n\\n\\n\\nBlog\\n\\n\\n\\n\\n    Host a hackathon\\n\\n\\n\\n\\n\\n\\n\\n\\n\\n\\n\\n\\n\\n\\n\\n\\n\\n\\n\\n\\nProduct\\n\\n\\n\\n\\n\\n\\n\\nDevpost\\nGrow your developer ecosystem and promote your platform.\\n\\n\\n\\nHackathons\\nProjects\\nHost a public hackathon\\n\\n\\n\\n\\n\\n\\nDevpost for Teams\\nDrive innovation, collaboration, and retention within your organization.\\n\\n\\n\\nTeams login\\nRequest a demo\\n\\n\\n\\n\\n\\n\\n\\n\\n\\n    Hackathons\\n\\n\\n\\n\\n    Projects\\n\\n\\n\\nBlog\\n\\n\\n\\n\\n\\nHost a hackathon\\n\\n\\n\\n\\n\\n\\n\\n\\n\\n\\n\\n\\n\\n\\n\\n \\n\\n\\n\\n\\n      Log in\\n \\n\\n\\n\\n        Sign up\\n      \\n \\n\\n\\n\\n\\n\\n\\n\\n\\n\\n\\n\\n\\nMicrosoft Fabric and AI Learning Hackathon\\n\\n\\nDeadline: Nov 12, 2024 @  5:00pm PST\\n\\n\\nJoin hackathon\\n\\n\\n\\n\\n\\n\\n\\n\\n\\n\\n\\n\\n\\n\\n\\n\\n\\n\\nDescend\\n\\n\\n\\nOverview\\n\\nMy projects\\n\\nParticipants (4265)\\nResources\\nRules\\n\\nProject gallery\\n\\n\\nUpdates\\n\\n\\nDiscussions\\n\\n\\n\\n\\n\\n\\n\\n\\n\\n\\n\\nMicrosoft Fabric and AI Learning Hackathon\\nBuilding the next wave of innovative AI powered data analytics applications with Microsoft Fabric\\n\\n\\n\\n\\nJoin hackathon\\n\\n\\n\\n\\nWho can participate\\n\\nAbove legal age of majority in country of residence\\n\\n        Specific\\n         countries/territories excluded \\n\\n\\n\\nView full rules\\n\\n\\n\\n\\n\\n\\n\\n\\n\\n\\nNovember 12 at 8:00pm EST to deadline\\n        \\n\\n\\nView schedule\\n\\n\\n\\n\\n        Deadline: Nov 12, 2024 @  5:00pm PST\\n      \\n\\n\\n\\n\\n\\n\\nApple\\n \\n\\n\\nGoogle\\n \\n\\n\\nOutlook\\n \\n\\n\\n\\n\\n\\n\\n\\n\\n\\n\\n\\n\\n                Online\\n              \\n\\n\\n\\n\\n\\n\\n                Public\\n              \\n \\n\\n\\n\\n$10,000 in prizes\\n          \\n\\n4265\\n            participants\\n          \\n\\n\\n\\n\\n\\n\\n\\n\\n\\n                Microsoft\\n              \\n \\n\\n\\n\\n\\nManaged by Devpost\\n \\n\\n \\n\\n\\n\\n\\n\\n                  Beginner Friendly\\n                \\n \\n\\n                  Databases\\n                \\n \\n\\n                  Machine Learning/AI\\n                \\n \\n\\n\\n\\n\\n\\n\\n\\n\\n\\n\\n\\n\\n\\n\\n\\nWelcome to the Microsoft Fabric and AI Learning Hackathon!\\u00a0\\n\\nThis is your chance to dive deep into the future of AI and cloud innovation, leveraging the powerful capabilities of Microsoft Fabric and Azure OpenAI services. Whether you're an AI enthusiast, a cloud computing expert, or a database guru, this hackathon is the perfect platform to showcase your skills and creativity.\\nMicrosoft Fabric is an integrated platform that combines data engineering, data warehousing, and data science in a seamless environment. It provides a unified experience for managing and analyzing data, enabling organizations to harness the power of their data more efficiently. With built-in AI capabilities, it allows users to automate processes, gain deeper insights, and accelerate decision-making, making it an essential tool for modern data-driven businesses.\\nTo ensure that you have all the tools necessary to build the next AI innovation with Microsoft Fabric and Azure Open AI, we are offering free access to Microsoft Fabric in addition to an Azure Open AI Proxy service that will allow you to use AI services without an Azure account.\\nWe are also providing a variety of live informational sessions and workshops to help expand your knowledge in an interactive setting. These events will be livestreamed by the Microsoft Reactor to YouTube.\\u00a0 You can view the full schedule and register to attend these sessions here. These will provide the opportunity to ask questions to the organizers & \\u00a0judges, but if you have questions outside of these event you can also join us for our upcoming AMA sessions (Sep 17) (Oct 8) on the Microsoft Tech Community. \\u00a0Additionally, you can join us in the Microsoft Fabric Community Forums and Devpost Discord for Q&A / support! \\nThis hackathon is more than just a competition\\u2014it's an opportunity to learn, innovate, and connect with like-minded individuals who are passionate about shaping the future of technology. We can't wait to see the incredible solutions you'll create!\\n\\n\\n\\n\\n          Requirements\\n        \\n\\n\\n\\nWhat to Build\\nComplete the Microsoft Learn AI Skills Challenge (Microsoft Fabric) and build a new Fabric solution that leverages Azure OpenAI services and falls into one of the following hackathon categories.\\n\\n\\nHackathon Categories:\\n\\n\\nMicrosoft Fabric + AI Innovation\\n\\n\\nA solution that solves a real world problem with Microsoft Fabric by implementing any concept or collection of concepts related to Artificial Intelligence.\\u00a0\\n\\n\\nThis could include a document analysis service that uses AI Skills or an Azure OpenAI based solution to implement a retrieval augmented generation architecture, training and deployment of a custom object detection model, anomaly detection, predictive forecasting, or any other modern application of AI within Microsoft Fabric. \\n\\n\\n\\n\\nReal-Time Intelligence in Microsoft Fabric\\n\\n\\nA solution that uses Real-Time Intelligence (RTI) in Microsoft Fabric\\u00a0 to solve a real world problem.\\u00a0\\n\\n\\nRTI is all about data integration, so showcasing how you can use RTI to integrate data from multiple sources and make real-time decisions based on that data is key. Any good RTI solution would include real-time data processing, real-time analytics, real-time monitoring, real-time alerting, or any other real-time application within Microsoft Fabric.\\u00a0\\n\\n\\nUsing RTI as a source of data for your AI application is also a great way to showcase the power of RTI. Showcasing open-source integrations like Apache Kafka or AMQP, and showing cross-cloud or hybrid cloud integrations is also a plus, but not required.\\n\\n\\n\\n\\nAzure Database for PostgreSQL Integration\\n\\n\\nA real-world solution that uses Azure Database for PostgreSQL as an OLTP main transactional database and the transactional data has to be offloaded to Fabric for near real-time analytics. This could involve using Event streaming connector for Azure Database for PostgreSQL or other techniques such as Dataflows (Gen2), Notebooks, or Data Factory Pipelines. Data landing in Fabric can be used in near real-time intelligent scenarios such as anomaly detection, predictive maintenance and other predictive scenarios, or personalized recommendations amongst others.\\n\\n\\n\\n\\nSQL And AI Integration\\n\\n\\nA real-world solution that is built on Microsoft Fabric that leverages Azure SQL Database or SQL Server, and augmented by AI capabilities. This could involve using Mirroring, Eventstream's Change Data Capture (CDC) Connector for Azure SQL DB, or using ingestion techniques such as Dataflows (Gen2), Notebooks, Data Factory Pipelines, and AI-driven analytics and insights.\\n\\nGet started with an Azure SQL database for free!\\n\\n\\n\\nAzure Cosmos DB + Microsoft Fabric Integration\\n\\n\\nA real-world solution that is built on Microsoft Fabric, leveraging Azure Cosmos DB. This could involve using Mirroring for enabling analytics/BI on Cosmos DB data, Eventstream's Change Data Capture (CDC) Connector for Cosmos DB, or using ingestion techniques such as Dataflows (Gen2), or Data Factory Pipelines.\\n\\nGet started with Cosmos DB for free!\\n\\n\\n\\n\\n\\n\\u00a0\\nImportant Notes:\\n\\nAdditional consideration will be given if you are able to document how you were able to accomplish your solution using any of the available Copilots in Microsoft Fabric.\\nMicrosoft Learn AI Skills Challenge (Microsoft Fabric) opens on September 24, 2024 and must be completed by all team members by November 1, 2024. You will be required to list all team members who are part of the project on your submission form, including their Microsoft Learn usernames.\\n\\n\\nWhat to Submit\\n\\n\\n\\nProvide a URL to your code repository for judging and testing. \\n\\n\\n\\nIf private, please share with testing@devpost.com and pdecarlo@microsoft.com\\u00a0\\n\\n\\n\\nInclude a video (about 3-5 minutes) that demonstrates your submission. Videos must be uploaded to YouTube, Vimeo, or Facebook Video and made public.\\n\\n\\n\\nJudges are not required to view videos beyond 5 minutes.\\n\\n\\n\\nProvide your and your teammates\\u2019 Microsoft Learn username(s).\\u00a0\\n\\n\\n\\nPlease note: all team members must complete the Microsoft Learn AI Skills Challenge (Microsoft Fabric). \\n\\n\\n\\nPlease check the Official Rules for full details.\\n\\n\\n\\n\\n\\n      Hackathon Sponsors\\n    \\n\\n\\n\\n\\n\\n\\n\\n\\n      Prizes\\n    \\n\\n\\n\\n$10,000 in prizes\\n\\n\\n\\n\\n\\n\\n\\n                Grand Prize Winner\\n              \\n\\n\\n\\u2022 $2,500 USD\\n\\u2022 Social media recognition\\n\\u2022 Opportunity to be featured in a Microsoft blog post following winner announcements\\n\\u2022 Microsoft participation badge\\n\\n\\n\\n\\n\\n\\n\\n                Best Microsoft Fabric + AI Innovation\\n              \\n\\n\\n\\u2022 $1,500 USD\\n\\u2022 Social media recognition\\n\\u2022 Opportunity to be featured in a Microsoft blog post following winner announcements\\n\\u2022 Microsoft participation badge\\n\\n\\n\\n\\n\\n\\n\\n\\n                Best use of Real-Time Intelligence in Microsoft Fabric\\n              \\n\\n\\n\\u2022 $1,500 USD\\n\\u2022 Social media recognition\\n\\u2022 Opportunity to be featured in a Microsoft blog post following winner announcements\\n\\u2022 Microsoft participation badge\\n\\n\\n\\n\\n\\n\\n\\n                Best Azure Database for PostgreSQL Integration\\n              \\n\\n\\n\\u2022 $1,500 USD\\n\\u2022 Social media recognition\\n\\u2022 Opportunity to be featured in a Microsoft blog post following winner announcements\\n\\u2022 Microsoft participation badge\\n\\n\\n\\n\\n\\n\\n\\n\\n\\n                Best SQL And AI Integration\\n              \\n\\n\\n\\u2022 $1,500 USD\\n\\u2022 Social media recognition\\n\\u2022 Opportunity to be featured in a Microsoft blog post following winner announcements\\n\\u2022 Microsoft participation badge\\n\\n\\n\\n\\n\\n\\n\\n                Best Azure Cosmos DB + Microsoft Fabric Integration\\n              \\n\\n\\n\\u2022 $1,500 USD\\n\\u2022 Social media recognition\\n\\u2022 Opportunity to be featured in a Microsoft blog post following winner announcements\\n\\u2022 Microsoft participation badge\\n\\n\\n\\n\\n\\n\\n\\n      Devpost Achievements\\n    \\n\\n\\nSubmitting to this hackathon could earn you:\\n\\n\\n\\n\\n\\n\\n\\n\\n      Judges\\n    \\n\\n\\n\\n\\n\\n\\n\\n\\n\\n\\n\\n\\nA panel of qualified judges\\nwill be announced soon\\n\\n\\n\\n\\n\\n\\n\\n\\n\\n      Judging Criteria\\n    \\n\\n\\n\\n\\nAlignment with hackathon category\\n        Does the solution fit into one or more of the five Hackathon Categories?\\n      \\n\\nInnovation / Impact\\n        Does the solution have real-world relevance? Does the solution solve a clearly defined problem that could be beneficial to others?\\n      \\n\\nDocumentation / Reproducibility\\n        Is the solution clearly documented in a GitHub repo that makes it easy for others to follow along and reproduce your solution? Is a video demonstration included in the submission?\\n      \\n\\nVideo Demonstration\\n        Does the submission include a link to a video demonstration of the solution in action? Does the video clearly depict the solution\\u2019s use of Microsoft Fabric features and capabilities and demonstrate how the solution makes use of artificial intelligence?\\n      \\n\\n\\n\\n\\n\\n\\n\\n      Questions?\\n      Email the hackathon manager\\n\\n\\n\\n\\n\\n      Invite others to compete\\n    \\n\\n\\n\\n\\n\\n\\n\\n\\n\\n\\n\\n\\n\\n\\n\\n\\n\\n\\n\\n\\n\\n\\n\\n\\n\\n\\n\\n\\n\\n\\n    This site is protected by reCAPTCHA and the Google\\n    Privacy Policy and\\n    Terms of Service apply.\\n  \\n\\n\\n\\n\\n\\n\\n\\n\\n\\n\\n\\n\\nDevpost\\n\\nAbout\\nCareers\\nContact\\nHelp\\n\\n\\n\\n\\n\\nHackathons\\n\\nBrowse hackathons\\nExplore projects\\nHost a hackathon\\nHackathon guides\\n\\n\\n\\n\\n\\nPortfolio\\n\\nYour projects\\nYour hackathons\\nSettings\\n\\n\\n\\n\\n\\nConnect\\n\\n\\n\\n\\n\\n\\n\\n                Twitter\\n              \\n\\n\\n\\n\\n\\n\\n\\n\\n                Discord\\n              \\n\\n\\n\\n\\n\\n\\n\\n\\n                Facebook\\n              \\n\\n\\n\\n\\n\\n\\n\\n\\n                LinkedIn\\n              \\n\\n\\n\\n\\n\\n\\n\\n\\n\\n\\n\\u00a9 2024 Devpost, Inc. All rights reserved.\\n\\nCommunity guidelines\\nSecurity\\nCA notice\\nPrivacy policy\\nTerms of service\\n\\n\\n\\n\\n\\n\\n\\n\\n\\n\\n\\n\\n\\n\"\n",
      "}\n"
     ]
    }
   ],
   "source": [
    "import requests\n",
    "from bs4 import BeautifulSoup\n",
    "import json\n",
    "\n",
    "# Fetch the content of the blog post\n",
    "response = requests.get(url)\n",
    "soup = BeautifulSoup(response.content, 'html.parser')\n",
    "\n",
    "# Extract the main content of the blog post\n",
    "blog_content = soup.get_text()\n",
    "\n",
    "# Convert the content to JSON format\n",
    "content = json.dumps({\"content\": blog_content}, indent=4)\n",
    "\n",
    "# Output the JSON content\n",
    "print(content)"
   ]
  },
  {
   "cell_type": "code",
   "execution_count": 4,
   "metadata": {},
   "outputs": [],
   "source": [
    "# Messages to give LLM, to create a short LinkedIn post based on a blog post\n",
    "\n",
    "system_message = \"\"\"\n",
    "You are a social assistant who writes creative content. You will politely decline any other requests from the user not related to creating content. Don't talk about a single VS Code release and don't talk about release dates at all. Instead, only talk about the relevant features. Don't include made up links, but do provide real links to the VS Code release notes for specific features. You format all your responses as Markdown unless otherwise specified. Avoid wrapping your entire response in a markdown code element.\n",
    "\"\"\"\n",
    "messages = [\n",
    "    {\"role\": \"system\", \"content\": system_message},\n",
    "    {\"role\": \"user\", \"content\": f\"Create a very short LinkedIn post using the following: {content}\"}\n",
    "]"
   ]
  },
  {
   "cell_type": "code",
   "execution_count": 6,
   "metadata": {},
   "outputs": [
    {
     "name": "stdout",
     "output_type": "stream",
     "text": [
      "🚀 Exciting news! Join us for the **Microsoft Fabric and AI Learning Hackathon**! 🎉 \n",
      "\n",
      "Dive deep into building innovative AI-powered data analytics applications using Microsoft Fabric. This is a unique opportunity to leverage Azure OpenAI services, collaborate with fellow tech enthusiasts, and showcase your skills for a chance to win from a prize pool of **$10,000**! \n",
      "\n",
      "🗓️ **Deadline:** November 12, 2024  \n",
      "🔗 [Join the hackathon here](https://devpost.com) and explore endless possibilities in AI and data analytics. Let’s shape the future together! 💡 #Hackathon #MicrosoftFabric #AI #Innovation\n"
     ]
    }
   ],
   "source": [
    "import os\n",
    "from openai import OpenAI\n",
    "\n",
    "token = os.environ[\"GITHUB_TOKEN\"]\n",
    "endpoint = \"https://models.inference.ai.azure.com\"\n",
    "model_name = \"gpt-4o-mini\"\n",
    "\n",
    "client = OpenAI(\n",
    "    base_url=endpoint,\n",
    "    api_key=token,\n",
    ")\n",
    "\n",
    "response = client.chat.completions.create(\n",
    "    messages=messages,\n",
    "    temperature=1.0,\n",
    "    top_p=1.0,\n",
    "    max_tokens=1000,\n",
    "    model=model_name\n",
    ")\n",
    "\n",
    "print(post := response.choices[0].message.content)"
   ]
  },
  {
   "cell_type": "markdown",
   "metadata": {},
   "source": [
    "## 📚 Text search"
   ]
  },
  {
   "cell_type": "markdown",
   "metadata": {},
   "source": [
    "#### Extract key topics & features"
   ]
  },
  {
   "cell_type": "code",
   "execution_count": 7,
   "metadata": {},
   "outputs": [],
   "source": [
    "# Messages to give LLM, to extract key topics & features\n",
    "\n",
    "topic_system_message = \"\"\"\n",
    "You are an expert at conducting entity extraction. Generate top topics and functionality based on provided content. Focus on identifying key concepts, themes, and relevant terms related to specific developer tooling, with a particular emphasis on VS Code features. Make sure entities you extract are directly relevant to the developer environment described. Don't mention specific dates or years. Use advanced search techniques, including Boolean operators and keyword variations, to craft precise, optimized queries that yield the most relevant results. Aim for clarity, relevance, and depth to cover all aspects of the topic efficiently. Simply list the phrases without additional explanation or details. Do not list any bullet points or numbered lists or quotation marks.\n",
    "\"\"\"\n",
    "\n",
    "topic_user_message=\"Come up with a list of top 5 developer tooling topics, functionalities, and relevant terms, with a strong focus on VS Code features and integrations based on the following content: \""
   ]
  },
  {
   "cell_type": "code",
   "execution_count": 8,
   "metadata": {},
   "outputs": [
    {
     "name": "stdout",
     "output_type": "stream",
     "text": [
      "Microsoft Fabric integration  \n",
      "\n",
      "AI-powered data analytics  \n",
      "\n",
      "Real-Time Intelligence in Microsoft Fabric  \n",
      "\n",
      "Azure OpenAI services  \n",
      "\n",
      "Developer community engagement\n",
      "\n"
     ]
    }
   ],
   "source": [
    "def extract_key_topics(content, model=\"gpt-4o-mini\"):\n",
    "    messages = [\n",
    "        {\"role\": \"system\", \"content\": topic_system_message},\n",
    "        {\"role\": \"user\", \"content\": topic_user_message+content}\n",
    "    ]\n",
    "\n",
    "    response = client.chat.completions.create(\n",
    "        model=model,\n",
    "        messages=messages,\n",
    "        temperature=0.3,\n",
    "    )\n",
    "\n",
    "    key_topics = response.choices[0].message.content.split('\\n')\n",
    "    return key_topics\n",
    "\n",
    "key_topics = extract_key_topics(content)\n",
    "print(\"\\n\".join([topic + \"\\n\" for topic in key_topics]))"
   ]
  },
  {
   "cell_type": "markdown",
   "metadata": {},
   "source": [
    "#### Load & filter data"
   ]
  },
  {
   "cell_type": "code",
   "execution_count": null,
   "metadata": {},
   "outputs": [
    {
     "data": {
      "text/html": [
       "<div>\n",
       "<style scoped>\n",
       "    .dataframe tbody tr th:only-of-type {\n",
       "        vertical-align: middle;\n",
       "    }\n",
       "\n",
       "    .dataframe tbody tr th {\n",
       "        vertical-align: top;\n",
       "    }\n",
       "\n",
       "    .dataframe thead th {\n",
       "        text-align: right;\n",
       "    }\n",
       "</style>\n",
       "<table border=\"1\" class=\"dataframe\">\n",
       "  <thead>\n",
       "    <tr style=\"text-align: right;\">\n",
       "      <th></th>\n",
       "      <th>content</th>\n",
       "      <th>url</th>\n",
       "      <th>id</th>\n",
       "    </tr>\n",
       "  </thead>\n",
       "  <tbody>\n",
       "    <tr>\n",
       "      <th>0</th>\n",
       "      <td>See what is new in the Visual Studio Code July...</td>\n",
       "      <td>https://code.visualstudio.com/updates/July_201...</td>\n",
       "      <td>0</td>\n",
       "    </tr>\n",
       "    <tr>\n",
       "      <th>1</th>\n",
       "      <td>See what is new in the Visual Studio Code July...</td>\n",
       "      <td>https://code.visualstudio.com/updates/July_201...</td>\n",
       "      <td>1</td>\n",
       "    </tr>\n",
       "    <tr>\n",
       "      <th>2</th>\n",
       "      <td>See what is new in the Visual Studio Code July...</td>\n",
       "      <td>https://code.visualstudio.com/updates/July_201...</td>\n",
       "      <td>2</td>\n",
       "    </tr>\n",
       "    <tr>\n",
       "      <th>3</th>\n",
       "      <td>See what is new in the Visual Studio Code July...</td>\n",
       "      <td>https://code.visualstudio.com/updates/July_201...</td>\n",
       "      <td>3</td>\n",
       "    </tr>\n",
       "    <tr>\n",
       "      <th>4</th>\n",
       "      <td>See what is new in the Visual Studio Code July...</td>\n",
       "      <td>https://code.visualstudio.com/updates/July_201...</td>\n",
       "      <td>4</td>\n",
       "    </tr>\n",
       "  </tbody>\n",
       "</table>\n",
       "</div>"
      ],
      "text/plain": [
       "                                             content  \\\n",
       "0  See what is new in the Visual Studio Code July...   \n",
       "1  See what is new in the Visual Studio Code July...   \n",
       "2  See what is new in the Visual Studio Code July...   \n",
       "3  See what is new in the Visual Studio Code July...   \n",
       "4  See what is new in the Visual Studio Code July...   \n",
       "\n",
       "                                                 url  id  \n",
       "0  https://code.visualstudio.com/updates/July_201...   0  \n",
       "1  https://code.visualstudio.com/updates/July_201...   1  \n",
       "2  https://code.visualstudio.com/updates/July_201...   2  \n",
       "3  https://code.visualstudio.com/updates/July_201...   3  \n",
       "4  https://code.visualstudio.com/updates/July_201...   4  "
      ]
     },
     "execution_count": 14,
     "metadata": {},
     "output_type": "execute_result"
    }
   ],
   "source": [
    "# load release_notes.json as a dataframe\n",
    "\n",
    "import pandas as pd\n",
    "\n",
    "df = pd.read_json('release_notes.json')\n",
    "df.head()"
   ]
  },
  {
   "cell_type": "code",
   "execution_count": 15,
   "metadata": {},
   "outputs": [
    {
     "data": {
      "text/html": [
       "<div>\n",
       "<style scoped>\n",
       "    .dataframe tbody tr th:only-of-type {\n",
       "        vertical-align: middle;\n",
       "    }\n",
       "\n",
       "    .dataframe tbody tr th {\n",
       "        vertical-align: top;\n",
       "    }\n",
       "\n",
       "    .dataframe thead th {\n",
       "        text-align: right;\n",
       "    }\n",
       "</style>\n",
       "<table border=\"1\" class=\"dataframe\">\n",
       "  <thead>\n",
       "    <tr style=\"text-align: right;\">\n",
       "      <th></th>\n",
       "      <th>content</th>\n",
       "      <th>url</th>\n",
       "      <th>id</th>\n",
       "    </tr>\n",
       "  </thead>\n",
       "  <tbody>\n",
       "    <tr>\n",
       "      <th>3024</th>\n",
       "      <td>Learn what is new in the Visual Studio Code Ja...</td>\n",
       "      <td>https://code.visualstudio.com/updates/v1_75#_d...</td>\n",
       "      <td>3112</td>\n",
       "    </tr>\n",
       "    <tr>\n",
       "      <th>3025</th>\n",
       "      <td>Learn what is new in the Visual Studio Code Ja...</td>\n",
       "      <td>https://code.visualstudio.com/updates/v1_75#_t...</td>\n",
       "      <td>3113</td>\n",
       "    </tr>\n",
       "    <tr>\n",
       "      <th>3026</th>\n",
       "      <td>Learn what is new in the Visual Studio Code Ja...</td>\n",
       "      <td>https://code.visualstudio.com/updates/v1_75#_t...</td>\n",
       "      <td>3114</td>\n",
       "    </tr>\n",
       "    <tr>\n",
       "      <th>3027</th>\n",
       "      <td>Learn what is new in the Visual Studio Code Ja...</td>\n",
       "      <td>https://code.visualstudio.com/updates/v1_75#_w...</td>\n",
       "      <td>3115</td>\n",
       "    </tr>\n",
       "    <tr>\n",
       "      <th>3028</th>\n",
       "      <td>Learn what is new in the Visual Studio Code Ja...</td>\n",
       "      <td>https://code.visualstudio.com/updates/v1_75#_i...</td>\n",
       "      <td>3116</td>\n",
       "    </tr>\n",
       "  </tbody>\n",
       "</table>\n",
       "</div>"
      ],
      "text/plain": [
       "                                                content  \\\n",
       "3024  Learn what is new in the Visual Studio Code Ja...   \n",
       "3025  Learn what is new in the Visual Studio Code Ja...   \n",
       "3026  Learn what is new in the Visual Studio Code Ja...   \n",
       "3027  Learn what is new in the Visual Studio Code Ja...   \n",
       "3028  Learn what is new in the Visual Studio Code Ja...   \n",
       "\n",
       "                                                    url    id  \n",
       "3024  https://code.visualstudio.com/updates/v1_75#_d...  3112  \n",
       "3025  https://code.visualstudio.com/updates/v1_75#_t...  3113  \n",
       "3026  https://code.visualstudio.com/updates/v1_75#_t...  3114  \n",
       "3027  https://code.visualstudio.com/updates/v1_75#_w...  3115  \n",
       "3028  https://code.visualstudio.com/updates/v1_75#_i...  3116  "
      ]
     },
     "execution_count": 15,
     "metadata": {},
     "output_type": "execute_result"
    }
   ],
   "source": [
    "\"\"\"\n",
    "Cell generated by Data Wrangler.\n",
    "\"\"\"\n",
    "def clean_data(df):\n",
    "    # Filter rows based on column: 'content'\n",
    "    df = df[(df['content'].str.contains(\"2023\", regex=False, na=False)) | (df['content'].str.contains(\"2024\", regex=False, na=False))]\n",
    "    return df\n",
    "\n",
    "df_clean = clean_data(df.copy())\n",
    "df_clean.head()"
   ]
  },
  {
   "cell_type": "markdown",
   "metadata": {},
   "source": [
    "#### Perform text search"
   ]
  },
  {
   "cell_type": "code",
   "execution_count": 16,
   "metadata": {},
   "outputs": [
    {
     "name": "stdout",
     "output_type": "stream",
     "text": [
      "                                                content  \\\n",
      "3194  Learn what is new in the Visual Studio Code Ap...   \n",
      "3914  Learn what is new in the Visual Studio Code Se...   \n",
      "3073  Learn what is new in the Visual Studio Code Ja...   \n",
      "3852  Learn what is new in the Visual Studio Code Au...   \n",
      "3630  Learn what is new in the Visual Studio Code Ma...   \n",
      "3370  Learn what is new in the Visual Studio Code Au...   \n",
      "3818  Learn what is new in the Visual Studio Code Ju...   \n",
      "3867  Learn what is new in the Visual Studio Code Au...   \n",
      "3581  Learn what is new in the Visual Studio Code Fe...   \n",
      "3207  Learn what is new in the Visual Studio Code Ma...   \n",
      "\n",
      "                                                    url    id  \n",
      "3194  https://code.visualstudio.com/updates/v1_78#_a...  3283  \n",
      "3914  https://code.visualstudio.com/updates/v1_94#_m...  4011  \n",
      "3073  https://code.visualstudio.com/updates/v1_75#_l...  3161  \n",
      "3852  https://code.visualstudio.com/updates/v1_93#_r...  3947  \n",
      "3630  https://code.visualstudio.com/updates/v1_88#_t...  3723  \n",
      "3370  https://code.visualstudio.com/updates/v1_82#_b...  3462  \n",
      "3818  https://code.visualstudio.com/updates/v1_92#_s...  3913  \n",
      "3867  https://code.visualstudio.com/updates/v1_93#_a...  3963  \n",
      "3581  https://code.visualstudio.com/updates/v1_87#_f...  3674  \n",
      "3207  https://code.visualstudio.com/updates/v1_79#_a...  3296  \n"
     ]
    }
   ],
   "source": [
    "from rank_bm25 import BM25Okapi\n",
    "import pandas as pd\n",
    "\n",
    "def bm25_search(df, key_topics, top_n=10):\n",
    "    # Preprocess the content\n",
    "    tokenized_corpus = [doc.split(\" \") for doc in df['content']]\n",
    "    \n",
    "    # Initialize BM25\n",
    "    bm25 = BM25Okapi(tokenized_corpus)\n",
    "    \n",
    "    # Combine key topics into a single query\n",
    "    query = \" \".join(key_topics).split(\" \")\n",
    "    \n",
    "    # Get BM25 scores\n",
    "    scores = bm25.get_scores(query)\n",
    "    \n",
    "    # Get top N documents\n",
    "    top_n_indices = scores.argsort()[-top_n:][::-1]\n",
    "    top_n_docs = df.iloc[top_n_indices]\n",
    "    \n",
    "    return top_n_docs\n",
    "\n",
    "# Perform the search\n",
    "top_documents = bm25_search(df_clean, key_topics)\n",
    "print(top_documents)"
   ]
  },
  {
   "cell_type": "markdown",
   "metadata": {},
   "source": [
    "## 🔢 Semantic reranking"
   ]
  },
  {
   "cell_type": "code",
   "execution_count": 17,
   "metadata": {},
   "outputs": [],
   "source": [
    "# Messages to give LLM, to re-rank the documents based on semantic relevance\n",
    "\n",
    "rerank_system_message = \"\"\"\n",
    "You are tasked with re-ranking a set of documents based on their relevance to given search queries. The documents have already been retrieved based on initial search criteria, but your role is to refine the ranking by considering factors such as semantic similarity to the query, context relevance, and alignment with the user's intent. Focus on documents that provide concise, high-quality information, ensuring that the top-ranked documents answer the query as accurately and completely as possible. If you can't rank them based on semantic relevance, give higher rank to documents with VS Code features that were published most recently. Make sure to return the full content and URL of each document, and format your response as a Markdown list item, with the URL in parentheses. Do not include any additional information or commentary about the documents. List a variety of documents, and give more weight to documents that mentions Python and or notebooks features.\n",
    "\"\"\"\n",
    "\n",
    "rerank_user_message=f\"Here are some documents: {top_documents.to_json(orient='records')}. Re-rank those documents based on these key VS Code functionalities: {key_topics}. Only return the top 3.\""
   ]
  },
  {
   "cell_type": "code",
   "execution_count": 19,
   "metadata": {},
   "outputs": [
    {
     "name": "stdout",
     "output_type": "stream",
     "text": [
      "1. [Learn what is new in the Visual Studio Code September 2024 Release (1.94)](https://code.visualstudio.com/updates/v1_94#_msal-based-microsoft-authentication)  \n",
      "\n",
      "   Content: We have been moving towards having our Microsoft Authentication stack use [MSAL (Microsoft Authentication Library)](http://github.com/AzureAD/microsoft-authentication-library-for-js). It's been a huge undertaking, but we have made great progress in this iteration. This work spans all VS Code clients, so that includes VS Code and [VS Code for the Web](https://vscode.dev).\n",
      "\n",
      "\n",
      "\n",
      "2. [Learn what is new in the Visual Studio Code August 2024 Release (1.93)](https://code.visualstudio.com/updates/v1_93#_authentication-account-api)  \n",
      "\n",
      "   Content: The authentication APIs now have more control when handling multiple accounts. Something that has always been missing is the ability to get all accounts and get an `AuthenticationSession` for a specific account. That is now possible with the finalization of the `getAccounts` API.\n",
      "\n",
      "\n",
      "\n",
      "3. [Learn what is new in the Visual Studio Code August 2024 Release (1.93)](https://code.visualstudio.com/updates/v1_93#_renamed-sql-to-ms-sql)  \n",
      "\n",
      "   Content: Working with JavaScript and TypeScript on [VS Code for the Web](https://vscode.dev) just got a whole lot better. To start off, we've implemented package IntelliSense, so you can see suggestions and documentation from any imported package, such as `react`.\n",
      "\n"
     ]
    }
   ],
   "source": [
    "def rerank_documents(model=\"gpt-4o-mini\"):\n",
    "    messages = [\n",
    "        {\"role\": \"system\", \"content\": rerank_system_message},\n",
    "        {\"role\": \"user\", \"content\": rerank_user_message}\n",
    "    ]\n",
    "\n",
    "    response = client.chat.completions.create(\n",
    "        model=model,\n",
    "        messages=messages,\n",
    "        temperature=0.7,\n",
    "    )\n",
    "\n",
    "    reranked_documents = response.choices[0].message.content.split('\\n')\n",
    "    return reranked_documents\n",
    "\n",
    "reranked_documents = rerank_documents()\n",
    "print(\"\\n\".join([doc + \"\\n\" for doc in reranked_documents]))\n"
   ]
  },
  {
   "cell_type": "markdown",
   "metadata": {},
   "source": [
    "## 🧠 Social assistant, with **relevant features**"
   ]
  },
  {
   "cell_type": "code",
   "execution_count": 21,
   "metadata": {},
   "outputs": [
    {
     "name": "stdout",
     "output_type": "stream",
     "text": [
      "🚀 Exciting news! Join us for the **Microsoft Fabric and AI Learning Hackathon**! This is your chance to innovate and build the next wave of AI-powered data analytics applications using Microsoft Fabric. With $10,000 in prizes and a supportive community, it's the perfect opportunity for AI enthusiasts and cloud experts alike! \n",
      "\n",
      "🗓️ **Deadline:** November 12, 2024  \n",
      "🔗 [Join the hackathon now!](https://devpost.com)  \n",
      "\n",
      "While you're at it, check out some amazing features in Visual Studio Code to enhance your development experience:\n",
      "\n",
      "1. [Learn what is new in the Visual Studio Code September 2024 Release (1.94)](https://code.visualstudio.com/updates/v1_94#_msal-based-microsoft-authentication) - Discover the progress on Microsoft Authentication using MSAL.\n",
      "   \n",
      "2. [Learn what is new in the Visual Studio Code August 2024 Release (1.93)](https://code.visualstudio.com/updates/v1_93#_authentication-account-api) - Explore the new `getAccounts` API for better account management.\n",
      "\n",
      "3. [Learn what is new in the Visual Studio Code August 2024 Release (1.93)](https://code.visualstudio.com/updates/v1_93#_renamed-sql-to-ms-sql) - Enjoy improved IntelliSense for JavaScript and TypeScript on VS Code for the Web.\n",
      "\n",
      "Let’s build something incredible together! 💡✨\n"
     ]
    }
   ],
   "source": [
    "def generate_llm_answer(content, context, completion_model):\n",
    "    messages = [\n",
    "        {\"role\": \"system\", \"content\": system_message},\n",
    "        {\"role\": \"user\", \"content\":  f\"Create a very short LinkedIn post using the following content: {content}. Also, include the following established VS Code features along with their URLs in your response, so folks seeing the post can try them out: {context}.\"}\n",
    "    ]\n",
    "\n",
    "    response = client.chat.completions.create(\n",
    "        model=completion_model,\n",
    "        messages=messages,\n",
    "        temperature=0.3\n",
    "    )\n",
    "\n",
    "    answer = response.choices[0].message.content\n",
    "    return answer\n",
    "\n",
    "print(generate_llm_answer(content, reranked_documents, completion_model=\"gpt-4o-mini\"))"
   ]
  },
  {
   "cell_type": "markdown",
   "metadata": {},
   "source": [
    "#### Compare responses between chat models"
   ]
  },
  {
   "cell_type": "code",
   "execution_count": 22,
   "metadata": {},
   "outputs": [
    {
     "name": "stdout",
     "output_type": "stream",
     "text": [
      "📣 Exciting Opportunity Alert! 📣\n",
      "\n",
      "Join the Microsoft Fabric and AI Learning Hackathon and build innovative AI-powered data analytics applications using Microsoft Fabric! 🚀\n",
      "\n",
      "Deadline: Nov 12, 2024 @ 5:00pm PST\n",
      "[Join the hackathon here](#)\n",
      "\n",
      "While you're working on your project, why not enhance your coding experience with some of the latest features in Visual Studio Code?\n",
      "\n",
      "1. [Learn what's new in the Visual Studio Code September 2024 Release (1.94)](https://code.visualstudio.com/updates/v1_94#_msal-based-microsoft-authentication)\n",
      "   - Improved Microsoft Authentication using MSAL\n",
      "\n",
      "2. [Learn what's new in the Visual Studio Code August 2024 Release (1.93)](https://code.visualstudio.com/updates/v1_93#_authentication-account-api)\n",
      "   - More control over multiple accounts with the `getAccounts` API\n",
      "\n",
      "3. [Learn what's new in the Visual Studio Code August 2024 Release (1.93)](https://code.visualstudio.com/updates/v1_93#_renamed-sql-to-ms-sql)\n",
      "   - Improved JavaScript and TypeScript support on VS Code for the Web\n",
      "\n",
      "Let's innovate together! 💡🌐\n",
      "\n",
      "#MicrosoftFabric #AI #Hackathon #VSCode #DeveloperCommunity\n"
     ]
    }
   ],
   "source": [
    "print(generate_llm_answer(content, reranked_documents, completion_model=\"Mistral-small\"))"
   ]
  },
  {
   "cell_type": "code",
   "execution_count": 23,
   "metadata": {},
   "outputs": [
    {
     "name": "stdout",
     "output_type": "stream",
     "text": [
      "Here's a LinkedIn post based on the content you provided:\n",
      "\n",
      "**Microsoft Fabric and AI Learning Hackathon: Building the Next Wave of Innovative AI-Powered Data Analytics Applications**\n",
      "\n",
      "Calling all AI enthusiasts, cloud computing experts, and database gurus! Microsoft is excited to announce the Microsoft Fabric and AI Learning Hackathon, a unique opportunity to dive deep into the future of AI and cloud innovation.\n",
      "\n",
      "**What to Build**\n",
      "\n",
      "Complete the Microsoft Learn AI Skills Challenge (Microsoft Fabric) and build a new Fabric solution that leverages Azure OpenAI services and falls into one of the following categories:\n",
      "\n",
      "* Microsoft Fabric + AI Innovation\n",
      "* Real-Time Intelligence in Microsoft Fabric\n",
      "* Azure Database for PostgreSQL Integration\n",
      "* SQL And AI Integration\n",
      "* Azure Cosmos DB + Microsoft Fabric Integration\n",
      "\n",
      "**Prizes**\n",
      "\n",
      "* Grand Prize Winner: $2,500 USD, social media recognition, opportunity to be featured in a Microsoft blog post, and a Microsoft participation badge\n",
      "* Category Winners: $1,500 USD, social media recognition, opportunity to be featured in a Microsoft blog post, and a Microsoft participation badge\n",
      "\n",
      "**Judging Criteria**\n",
      "\n",
      "* Alignment with hackathon category\n",
      "* Innovation/Impact\n",
      "* Documentation/Reproducibility\n",
      "* Video Demonstration\n",
      "\n",
      "**Get Started**\n",
      "\n",
      "* Register for the hackathon by [Deadline: Nov 12, 2024 @ 5:00pm PST]\n",
      "* Complete the Microsoft Learn AI Skills Challenge (Microsoft Fabric) by November 1, 2024\n",
      "* Build your solution and submit it by [Deadline: Nov 12, 2024 @ 5:00pm PST]\n",
      "\n",
      "**Additional Resources**\n",
      "\n",
      "* Learn what's new in the Visual Studio Code September 2024 Release (1.94) [https://code.visualstudio.com/updates/v1_94#_msal-based-microsoft-authentication]\n",
      "* Learn what's new in the Visual Studio Code August 2024 Release (1.93) [https://code.visualstudio.com/updates/v1_93#_authentication-account-api]\n",
      "* Learn what's new in the Visual Studio Code August 2024 Release (1.93) [https://code.visualstudio.com/updates/v1_93#_renamed-sql-to-ms-sql]\n",
      "\n",
      "**Join the Conversation**\n",
      "\n",
      "* Follow us on Twitter: [https://twitter.com/Devpost]\n",
      "* Join our Discord community: [https://discord.com/invite/Devpost]\n",
      "* Connect with us on LinkedIn: [https://www.linkedin.com/company/devpost/]\n",
      "\n",
      "Don't miss this opportunity to showcase your skills and creativity while building innovative AI-powered data analytics applications with Microsoft Fabric and Azure OpenAI services. Register now and get started!\n"
     ]
    }
   ],
   "source": [
    "print(generate_llm_answer(content, reranked_documents, completion_model=\"meta-llama-3-8b-instruct\"))"
   ]
  },
  {
   "cell_type": "markdown",
   "metadata": {},
   "source": [
    "#### Try it out yourself! 😄"
   ]
  },
  {
   "cell_type": "markdown",
   "metadata": {},
   "source": [
    "VS Code extensions used for this demo:\n",
    "\n",
    "![extensions](vsc_extensions.png)"
   ]
  }
 ],
 "metadata": {
  "kernelspec": {
   "display_name": "demoey",
   "language": "python",
   "name": "python3"
  },
  "language_info": {
   "codemirror_mode": {
    "name": "ipython",
    "version": 3
   },
   "file_extension": ".py",
   "mimetype": "text/x-python",
   "name": "python",
   "nbconvert_exporter": "python",
   "pygments_lexer": "ipython3",
   "version": "3.11.3"
  }
 },
 "nbformat": 4,
 "nbformat_minor": 2
}
