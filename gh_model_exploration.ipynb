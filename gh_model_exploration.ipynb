{
 "cells": [
  {
   "cell_type": "markdown",
   "metadata": {},
   "source": [
    "# RAG exploration\n",
    "\n",
    "![goal_post](goal_post.png)"
   ]
  },
  {
   "cell_type": "markdown",
   "metadata": {},
   "source": [
    "## 🤖 Social assistant, with **off the shelf model**"
   ]
  },
  {
   "cell_type": "code",
   "execution_count": 7,
   "metadata": {},
   "outputs": [
    {
     "name": "stdout",
     "output_type": "stream",
     "text": [
      "{\n",
      "    \"title\": \"Announcing: The Microsoft Fabric & AI Learning Hackathon | Microsoft Fabric Blog | Microsoft Fabric\",\n",
      "    \"content\": \"Get ready for the Microsoft Fabric & AI Learning Hackathon!\\u00a0\\u00a0 We\\u2019re calling all Data/AI Enthusiasts and Data/AI practitioners to join us for another exciting opportunity to upskill and build the next generation of Data + AI solutions with Microsoft Fabric!\\u00a0 This event follows up on the recent Microsoft Fabric Global AI Hackathon held earlier this year where participants from all over the world upskilled their knowledge of the platform to create a variety of innovatitve project submissions.\\u00a0 This time, we\\u2019re getting the word out just ahead the European Microsoft Fabric Conference where you can expect exciting new features and additions to be revealed, while giving participants a most excellent reason to try them out in this Hackathon!\\u00a0 The contest will be even bigger and better than ever, this time coordinating the Hackathon through the DevPost Platform over a 7-week submission period and offering a total of $10,000 in prizes for the lucky winners!\\u00a0\\u00a0The hackathon is open to anyone looking to expand their learning through a special  Microsoft Learn Skills Challenge focused on Microsoft Fabric and apply their expertise to create a solution aligned to one of the five Hackathon prize categories.\\u00a0 Whether you are a beginner interested in learning something new, a seasoned maker looking to create the next big thing, or a professional developer/DB admin/PowerBI enthusiast that wants to expand your skillset by building with Microsoft Fabric \\u2013 all are welcome! \\u00a0 To participate in the Microsoft Fabric & AI Learning Hackathon, register for the event at https://microsoftfabric.devpost.com .\\u00a0You will need to have access to a Microsoft Fabric capacity. If you don\\u2019t have one, you can obtain a Microsoft Fabric trial license by following these instructions.\\u00a0\\u00a0Once you have registered and have access to Microsoft Fabric, you can start building your solution!\\u00a0\\u00a0Eligible submissions will require\\u00a0 a 3-5 minute video demonstration and a link to a documented repository containing the steps to recreate your solution.\\u00a0 We want to ensure that all participants understand the underlying technologies and methodologies for building AI solutions with Microsoft Fabric and also offer live support for any issues you may encounter! \\u00a0To accomplish this, we\\u2019ve built an exciting live interaction schedule that involves members of the Fabric Engineering and Data Advocacy teams. \\u00a0You can join to learn new skills and ask questions to experts in a live setting, we can\\u2019t wait to see you there!\\u00a0 We\\u2019re excited at the recent expansion of features in Microsoft Fabric and have designed our challenge categories to align to multiple areas of expertise related to these updates, allowing for a variety of opportunities for you to be a winner! \\u00a0With $10,000 in prizes up for grabs, this event will provide the lucky winners with cash awards in addition to exposure on Microsoft online channels. \\u00a0\\u00a0The Microsoft Fabric & AI Learning Hackathon challenges participants to build solutions \\u00a0that address one or more of the following categories:\\u00a0 Announcing: The Microsoft Fabric & AI Learning Hackathon Introducing Managed VNet Support for Fabric Eventstream! By creating a Fabric\\u2019s Managed Private Endpoint, you can now securely connect Eventstream to your Azure services, such as Azure Event Hubs or IoT Hub, within a private network or behind a firewall. This integration ensures your data is securely transmitted over a private network, enabling you to \\u2026 \\nContinue reading \\u201cSecure Data Streaming with Managed Private Endpoints in Eventstream (Preview)\\u201d\\n We had an incredible time in our host city of Stockholm for FabCon Europe! 3,300 attendees joined us from our international community, and it was wonderful to meet so many of you in person. Throughout the week of FabCon Europe, our teams published a wealth of valuable content, and we want to ensure you have \\u2026 \\nContinue reading \\u201cFabric Community Conference Europe Recap\\u201d\\n \\r\\n                    Accelerate your data potential with a unified analytics solution that connects it all. Microsoft Fabric enables you to manage your data in one place with a suite of analytics experiences that seamlessly work together, all hosted on a lake-centric SaaS solution for simplicity and to maintain a single source of truth.\\r\\n                  Get the latest news from Microsoft Fabric Blog This will prompt you to login with your Microsoft account to subscribe\"\n",
      "}\n"
     ]
    }
   ],
   "source": [
    "import json\n",
    "\n",
    "# Load the content of blog.txt\n",
    "with open('blog.txt', 'r') as file:\n",
    "    blog_content = file.read()\n",
    "\n",
    "# Parse the content as JSON\n",
    "content = json.loads(blog_content)\n",
    "# Convert the content dictionary back to a JSON string\n",
    "content = json.dumps(content, indent=4)\n",
    "\n",
    "print(content)"
   ]
  },
  {
   "cell_type": "code",
   "execution_count": 3,
   "metadata": {},
   "outputs": [],
   "source": [
    "# Messages to give LLM, to create a short LinkedIn post based on a blog post\n",
    "\n",
    "system_message = \"\"\"\n",
    "You are a social assistant who writes creative content. You will politely decline any other requests from the user not related to creating content. Don't talk about a single VS Code release and don't talk about release dates at all. Instead, only talk about the relevant features. Don't include made up links, but do provide real links to the VS Code release notes for specific features. You format all your responses as Markdown unless otherwise specified. Avoid wrapping your entire response in a markdown code element.\n",
    "\"\"\"\n",
    "messages = [\n",
    "    {\"role\": \"system\", \"content\": system_message},\n",
    "    {\"role\": \"user\", \"content\": f\"Create a very short LinkedIn post using the following: {content}\"}\n",
    "]"
   ]
  },
  {
   "cell_type": "code",
   "execution_count": 4,
   "metadata": {},
   "outputs": [
    {
     "name": "stdout",
     "output_type": "stream",
     "text": [
      "🚀 **Exciting News for Data/AI Enthusiasts!** 🚀\n",
      "\n",
      "We're thrilled to announce the **Microsoft Fabric & AI Learning Hackathon!** This is your chance to upskill and develop innovative Data + AI solutions with Microsoft Fabric.\n",
      "\n",
      "📅 **Why Participate?**\n",
      "- Compete for a share of **$10,000 in prizes!**\n",
      "- Engage in a **7-week submission period** and showcase your skills.\n",
      "- Access **live support** from our experts - whether you're a beginner or a seasoned developer.\n",
      "\n",
      "Join us and let’s build the future of Data + AI together! For registration details, check out the link: [Microsoft Fabric & AI Learning Hackathon](https://microsoftfabric.devpost.com).\n",
      "\n",
      "Can’t wait to see what you create! 🎉 \n",
      "\n",
      "#MicrosoftFabric #Hackathon #DataAI #Innovation #Upskill\n"
     ]
    }
   ],
   "source": [
    "import os\n",
    "from openai import OpenAI\n",
    "\n",
    "token = os.environ[\"GITHUB_TOKEN\"]\n",
    "endpoint = \"https://models.inference.ai.azure.com\"\n",
    "model_name = \"gpt-4o-mini\"\n",
    "\n",
    "client = OpenAI(\n",
    "    base_url=endpoint,\n",
    "    api_key=token,\n",
    ")\n",
    "\n",
    "response = client.chat.completions.create(\n",
    "    messages=messages,\n",
    "    temperature=1.0,\n",
    "    top_p=1.0,\n",
    "    max_tokens=1000,\n",
    "    model=model_name\n",
    ")\n",
    "\n",
    "print(response.choices[0].message.content)"
   ]
  },
  {
   "cell_type": "markdown",
   "metadata": {},
   "source": [
    "## 📚 Text search"
   ]
  },
  {
   "cell_type": "markdown",
   "metadata": {},
   "source": [
    "#### Extract key topics & features"
   ]
  },
  {
   "cell_type": "code",
   "execution_count": 5,
   "metadata": {},
   "outputs": [],
   "source": [
    "# Messages to give LLM, to extract key topics & features\n",
    "\n",
    "topic_system_message = \"\"\"\n",
    "You are an expert at conducting entity extraction. Generate top topics and functionality based on provided content. Focus on identifying key concepts, themes, and relevant terms related to specific developer tooling, with a particular emphasis on VS Code features. Make sure entities you extract are directly relevant to the developer environment described. Don't mention specific dates or years. Use advanced search techniques, including Boolean operators and keyword variations, to craft precise, optimized queries that yield the most relevant results. Aim for clarity, relevance, and depth to cover all aspects of the topic efficiently. Simply list the phrases without additional explanation or details. Do not list any bullet points or numbered lists or quotation marks.\n",
    "\"\"\"\n",
    "\n",
    "topic_user_message=\"Come up with a list of top 5 developer tooling topics, functionalities, and relevant terms, with a strong focus on VS Code features and integrations based on the following content: \""
   ]
  },
  {
   "cell_type": "code",
   "execution_count": 8,
   "metadata": {},
   "outputs": [
    {
     "name": "stdout",
     "output_type": "stream",
     "text": [
      "Microsoft Fabric integration with VS Code  \n",
      "\n",
      "Data and AI solution development in VS Code  \n",
      "\n",
      "Live support and interaction features in VS Code  \n",
      "\n",
      "Video demonstration and documentation for submissions  \n",
      "\n",
      "Managed Private Endpoints for secure data streaming in VS Code\n",
      "\n"
     ]
    }
   ],
   "source": [
    "def extract_key_topics(content, model=\"gpt-4o-mini\"):\n",
    "    messages = [\n",
    "        {\"role\": \"system\", \"content\": topic_system_message},\n",
    "        {\"role\": \"user\", \"content\": topic_user_message+content}\n",
    "    ]\n",
    "\n",
    "    response = client.chat.completions.create(\n",
    "        model=model,\n",
    "        messages=messages,\n",
    "        temperature=0.3,\n",
    "    )\n",
    "\n",
    "    key_topics = response.choices[0].message.content.split('\\n')\n",
    "    return key_topics\n",
    "\n",
    "key_topics = extract_key_topics(content)\n",
    "print(\"\\n\".join([topic + \"\\n\" for topic in key_topics]))"
   ]
  },
  {
   "cell_type": "markdown",
   "metadata": {},
   "source": [
    "#### Load & filter VS Code release notes"
   ]
  },
  {
   "cell_type": "code",
   "execution_count": 9,
   "metadata": {},
   "outputs": [
    {
     "data": {
      "text/html": [
       "<div>\n",
       "<style scoped>\n",
       "    .dataframe tbody tr th:only-of-type {\n",
       "        vertical-align: middle;\n",
       "    }\n",
       "\n",
       "    .dataframe tbody tr th {\n",
       "        vertical-align: top;\n",
       "    }\n",
       "\n",
       "    .dataframe thead th {\n",
       "        text-align: right;\n",
       "    }\n",
       "</style>\n",
       "<table border=\"1\" class=\"dataframe\">\n",
       "  <thead>\n",
       "    <tr style=\"text-align: right;\">\n",
       "      <th></th>\n",
       "      <th>content</th>\n",
       "      <th>url</th>\n",
       "      <th>id</th>\n",
       "    </tr>\n",
       "  </thead>\n",
       "  <tbody>\n",
       "    <tr>\n",
       "      <th>0</th>\n",
       "      <td>See what is new in the Visual Studio Code July...</td>\n",
       "      <td>https://code.visualstudio.com/updates/July_201...</td>\n",
       "      <td>0</td>\n",
       "    </tr>\n",
       "    <tr>\n",
       "      <th>1</th>\n",
       "      <td>See what is new in the Visual Studio Code July...</td>\n",
       "      <td>https://code.visualstudio.com/updates/July_201...</td>\n",
       "      <td>1</td>\n",
       "    </tr>\n",
       "    <tr>\n",
       "      <th>2</th>\n",
       "      <td>See what is new in the Visual Studio Code July...</td>\n",
       "      <td>https://code.visualstudio.com/updates/July_201...</td>\n",
       "      <td>2</td>\n",
       "    </tr>\n",
       "    <tr>\n",
       "      <th>3</th>\n",
       "      <td>See what is new in the Visual Studio Code July...</td>\n",
       "      <td>https://code.visualstudio.com/updates/July_201...</td>\n",
       "      <td>3</td>\n",
       "    </tr>\n",
       "    <tr>\n",
       "      <th>4</th>\n",
       "      <td>See what is new in the Visual Studio Code July...</td>\n",
       "      <td>https://code.visualstudio.com/updates/July_201...</td>\n",
       "      <td>4</td>\n",
       "    </tr>\n",
       "  </tbody>\n",
       "</table>\n",
       "</div>"
      ],
      "text/plain": [
       "                                             content  \\\n",
       "0  See what is new in the Visual Studio Code July...   \n",
       "1  See what is new in the Visual Studio Code July...   \n",
       "2  See what is new in the Visual Studio Code July...   \n",
       "3  See what is new in the Visual Studio Code July...   \n",
       "4  See what is new in the Visual Studio Code July...   \n",
       "\n",
       "                                                 url  id  \n",
       "0  https://code.visualstudio.com/updates/July_201...   0  \n",
       "1  https://code.visualstudio.com/updates/July_201...   1  \n",
       "2  https://code.visualstudio.com/updates/July_201...   2  \n",
       "3  https://code.visualstudio.com/updates/July_201...   3  \n",
       "4  https://code.visualstudio.com/updates/July_201...   4  "
      ]
     },
     "execution_count": 9,
     "metadata": {},
     "output_type": "execute_result"
    }
   ],
   "source": [
    "# load release_notes.json as a dataframe\n",
    "\n",
    "import pandas as pd\n",
    "\n",
    "df = pd.read_json('release_notes.json')\n",
    "df.head()"
   ]
  },
  {
   "cell_type": "code",
   "execution_count": 10,
   "metadata": {},
   "outputs": [
    {
     "data": {
      "text/html": [
       "<div>\n",
       "<style scoped>\n",
       "    .dataframe tbody tr th:only-of-type {\n",
       "        vertical-align: middle;\n",
       "    }\n",
       "\n",
       "    .dataframe tbody tr th {\n",
       "        vertical-align: top;\n",
       "    }\n",
       "\n",
       "    .dataframe thead th {\n",
       "        text-align: right;\n",
       "    }\n",
       "</style>\n",
       "<table border=\"1\" class=\"dataframe\">\n",
       "  <thead>\n",
       "    <tr style=\"text-align: right;\">\n",
       "      <th></th>\n",
       "      <th>content</th>\n",
       "      <th>url</th>\n",
       "      <th>id</th>\n",
       "    </tr>\n",
       "  </thead>\n",
       "  <tbody>\n",
       "    <tr>\n",
       "      <th>3024</th>\n",
       "      <td>Learn what is new in the Visual Studio Code Ja...</td>\n",
       "      <td>https://code.visualstudio.com/updates/v1_75#_d...</td>\n",
       "      <td>3112</td>\n",
       "    </tr>\n",
       "    <tr>\n",
       "      <th>3025</th>\n",
       "      <td>Learn what is new in the Visual Studio Code Ja...</td>\n",
       "      <td>https://code.visualstudio.com/updates/v1_75#_t...</td>\n",
       "      <td>3113</td>\n",
       "    </tr>\n",
       "    <tr>\n",
       "      <th>3026</th>\n",
       "      <td>Learn what is new in the Visual Studio Code Ja...</td>\n",
       "      <td>https://code.visualstudio.com/updates/v1_75#_t...</td>\n",
       "      <td>3114</td>\n",
       "    </tr>\n",
       "    <tr>\n",
       "      <th>3027</th>\n",
       "      <td>Learn what is new in the Visual Studio Code Ja...</td>\n",
       "      <td>https://code.visualstudio.com/updates/v1_75#_w...</td>\n",
       "      <td>3115</td>\n",
       "    </tr>\n",
       "    <tr>\n",
       "      <th>3028</th>\n",
       "      <td>Learn what is new in the Visual Studio Code Ja...</td>\n",
       "      <td>https://code.visualstudio.com/updates/v1_75#_i...</td>\n",
       "      <td>3116</td>\n",
       "    </tr>\n",
       "  </tbody>\n",
       "</table>\n",
       "</div>"
      ],
      "text/plain": [
       "                                                content  \\\n",
       "3024  Learn what is new in the Visual Studio Code Ja...   \n",
       "3025  Learn what is new in the Visual Studio Code Ja...   \n",
       "3026  Learn what is new in the Visual Studio Code Ja...   \n",
       "3027  Learn what is new in the Visual Studio Code Ja...   \n",
       "3028  Learn what is new in the Visual Studio Code Ja...   \n",
       "\n",
       "                                                    url    id  \n",
       "3024  https://code.visualstudio.com/updates/v1_75#_d...  3112  \n",
       "3025  https://code.visualstudio.com/updates/v1_75#_t...  3113  \n",
       "3026  https://code.visualstudio.com/updates/v1_75#_t...  3114  \n",
       "3027  https://code.visualstudio.com/updates/v1_75#_w...  3115  \n",
       "3028  https://code.visualstudio.com/updates/v1_75#_i...  3116  "
      ]
     },
     "execution_count": 10,
     "metadata": {},
     "output_type": "execute_result"
    }
   ],
   "source": [
    "\"\"\"\n",
    "Cell generated by Data Wrangler.\n",
    "\"\"\"\n",
    "def clean_data(df):\n",
    "    # Filter rows based on column: 'content'\n",
    "    df = df[(df['content'].str.contains(\"2023\", regex=False, na=False)) | (df['content'].str.contains(\"2024\", regex=False, na=False))]\n",
    "    return df\n",
    "\n",
    "df_clean = clean_data(df.copy())\n",
    "df_clean.head()"
   ]
  },
  {
   "cell_type": "code",
   "execution_count": 12,
   "metadata": {},
   "outputs": [
    {
     "name": "stdout",
     "output_type": "stream",
     "text": [
      "                                                content  \\\n",
      "3468  Learn what is new in the Visual Studio Code Oc...   \n",
      "3076  Learn what is new in the Visual Studio Code Ja...   \n",
      "3111  Learn what is new in the Visual Studio Code Fe...   \n",
      "3148  Learn what is new in the Visual Studio Code Ma...   \n",
      "3461  Learn what is new in the Visual Studio Code Oc...   \n",
      "3326  Learn what is new in the Visual Studio Code Ju...   \n",
      "3360  Learn what is new in the Visual Studio Code Ju...   \n",
      "3889  Learn what is new in the Visual Studio Code Se...   \n",
      "3914  Learn what is new in the Visual Studio Code Se...   \n",
      "3854  Learn what is new in the Visual Studio Code Au...   \n",
      "\n",
      "                                                    url    id  \n",
      "3468  https://code.visualstudio.com/updates/v1_84#_g...  3560  \n",
      "3076  https://code.visualstudio.com/updates/v1_75#_g...  3164  \n",
      "3111  https://code.visualstudio.com/updates/v1_76#_g...  3199  \n",
      "3148  https://code.visualstudio.com/updates/v1_77#_....  3236  \n",
      "3461  https://code.visualstudio.com/updates/v1_84#_i...  3553  \n",
      "3326  https://code.visualstudio.com/updates/v1_80#_n...  3418  \n",
      "3360  https://code.visualstudio.com/updates/v1_81#_s...  3452  \n",
      "3889  https://code.visualstudio.com/updates/v1_94#_a...  3986  \n",
      "3914  https://code.visualstudio.com/updates/v1_94#_m...  4011  \n",
      "3854  https://code.visualstudio.com/updates/v1_93#_j...  3949  \n"
     ]
    }
   ],
   "source": [
    "from rank_bm25 import BM25Okapi\n",
    "import pandas as pd\n",
    "\n",
    "def search_with_bm25(df, key_topics, top_n=10):\n",
    "    # Tokenize the content of the dataframe\n",
    "    tokenized_corpus = [doc.split(\" \") for doc in df['content']]\n",
    "    \n",
    "    # Initialize BM25\n",
    "    bm25 = BM25Okapi(tokenized_corpus)\n",
    "    \n",
    "    # Combine key topics into a single query\n",
    "    query = \" \".join(key_topics).split(\" \")\n",
    "    \n",
    "    # Get BM25 scores for the query\n",
    "    scores = bm25.get_scores(query)\n",
    "    \n",
    "    # Get the indices of the top_n scores\n",
    "    top_n_indices = scores.argsort()[-top_n:][::-1]\n",
    "    \n",
    "    # Return the top_n documents\n",
    "    top_n_docs = df.iloc[top_n_indices]\n",
    "    return top_n_docs\n",
    "\n",
    "# Perform the search and get the top 10 documents\n",
    "top_documents = search_with_bm25(df_clean, key_topics)\n",
    "print(top_documents)"
   ]
  },
  {
   "cell_type": "markdown",
   "metadata": {},
   "source": [
    "#### Perform text search based on extracted key topics"
   ]
  },
  {
   "cell_type": "markdown",
   "metadata": {},
   "source": [
    "## 🔢 Semantic reranking"
   ]
  },
  {
   "cell_type": "code",
   "execution_count": 13,
   "metadata": {},
   "outputs": [],
   "source": [
    "# Messages to give LLM, to re-rank the documents based on semantic relevance\n",
    "\n",
    "rerank_system_message = \"\"\"\n",
    "You are tasked with re-ranking a set of documents based on their relevance to given search queries. The documents have already been retrieved based on initial search criteria, but your role is to refine the ranking by considering factors such as semantic similarity to the query, context relevance, and alignment with the user's intent. Focus on documents that provide concise, high-quality information, ensuring that the top-ranked documents answer the query as accurately and completely as possible. If you can't rank them based on semantic relevance, give higher rank to documents with VS Code features that were published most recently. Make sure to return the full content and URL of each document, and format your response as a Markdown list item, with the URL in parentheses. Do not include any additional information or commentary about the documents.\n",
    "\"\"\"\n",
    "\n",
    "rerank_user_message=f\"Here are some documents: {top_documents.to_json(orient='records')}. Re-rank those documents based on these key VS Code functionalities: {key_topics}. Only return the top 3.\""
   ]
  },
  {
   "cell_type": "code",
   "execution_count": 14,
   "metadata": {},
   "outputs": [
    {
     "name": "stdout",
     "output_type": "stream",
     "text": [
      "1. [Learn what is new in the Visual Studio Code September 2024 Release (1.94) - MSAL-based Microsoft Authentication](https://code.visualstudio.com/updates/v1_94#_msal-based-microsoft-authentication)\n",
      "\n",
      "\n",
      "\n",
      "2. [Learn what is new in the Visual Studio Code September 2024 Release (1.94) - Automated test setup (Experimental)](https://code.visualstudio.com/updates/v1_94#_automated-test-setup-experimental)\n",
      "\n",
      "\n",
      "\n",
      "3. [Learn what is new in the Visual Studio Code October 2023 Release (1.84) - Gradle for Java](https://code.visualstudio.com/updates/v1_84#_gradle-for-java)\n",
      "\n"
     ]
    }
   ],
   "source": [
    "def rerank_documents(model=\"gpt-4o-mini\"):\n",
    "    messages = [\n",
    "        {\"role\": \"system\", \"content\": rerank_system_message},\n",
    "        {\"role\": \"user\", \"content\": rerank_user_message}\n",
    "    ]\n",
    "\n",
    "    response = client.chat.completions.create(\n",
    "        model=model,\n",
    "        messages=messages,\n",
    "        temperature=0.3,\n",
    "    )\n",
    "\n",
    "    reranked_documents = response.choices[0].message.content.split('\\n')\n",
    "    return reranked_documents\n",
    "\n",
    "reranked_documents = rerank_documents()\n",
    "print(\"\\n\".join([doc + \"\\n\" for doc in reranked_documents]))\n"
   ]
  },
  {
   "cell_type": "markdown",
   "metadata": {},
   "source": [
    "## 🧠 Social assistant, with **relevant features**"
   ]
  },
  {
   "cell_type": "code",
   "execution_count": 16,
   "metadata": {},
   "outputs": [
    {
     "name": "stdout",
     "output_type": "stream",
     "text": [
      "🚀 **Exciting News!** 🌟\n",
      "\n",
      "We're thrilled to announce the **Microsoft Fabric & AI Learning Hackathon**! Calling all Data/AI enthusiasts and practitioners to join us in building the next generation of Data + AI solutions with Microsoft Fabric. \n",
      "\n",
      "This event follows the successful Microsoft Fabric Global AI Hackathon and coincides with the upcoming European Microsoft Fabric Conference. With **$10,000 in prizes** and a chance to learn from experts, this is an opportunity you don’t want to miss!\n",
      "\n",
      "👉 Register now at [Microsoft Fabric Hackathon](https://microsoftfabric.devpost.com) and get ready to innovate!\n",
      "\n",
      "#MicrosoftFabric #AI #Hackathon #DataScience\n",
      "\n",
      "---\n",
      "\n",
      "For those interested in the latest features in Visual Studio Code, check out these updates:\n",
      "1. [Learn what is new in the Visual Studio Code September 2024 Release (1.94) - MSAL-based Microsoft Authentication](https://code.visualstudio.com/updates/v1_94#_msal-based-microsoft-authentication)\n",
      "2. [Learn what is new in the Visual Studio Code September 2024 Release (1.94) - Automated test setup (Experimental)](https://code.visualstudio.com/updates/v1_94#_automated-test-setup-experimental)\n",
      "3. [Learn what is new in the Visual Studio Code October 2023 Release (1.84) - Gradle for Java](https://code.visualstudio.com/updates/v1_84#_gradle-for-java)\n"
     ]
    }
   ],
   "source": [
    "def generate_llm_answer(content, context, completion_model):\n",
    "    messages = [\n",
    "        {\"role\": \"system\", \"content\": system_message},\n",
    "        {\"role\": \"user\", \"content\":  f\"Create a very short LinkedIn post using the following content: {content}. Also, include the following additional information in your response, and always include the URLs: {context}.\"}\n",
    "    ]\n",
    "\n",
    "    response = client.chat.completions.create(\n",
    "        model=completion_model,\n",
    "        messages=messages,\n",
    "        temperature=0.3\n",
    "    )\n",
    "\n",
    "    answer = response.choices[0].message.content\n",
    "    return answer\n",
    "\n",
    "print(generate_llm_answer(content, reranked_documents, completion_model=\"gpt-4o-mini\"))"
   ]
  },
  {
   "cell_type": "markdown",
   "metadata": {},
   "source": [
    "#### Compare responses between chat models"
   ]
  },
  {
   "cell_type": "code",
   "execution_count": 17,
   "metadata": {},
   "outputs": [
    {
     "name": "stdout",
     "output_type": "stream",
     "text": [
      "📣 Exciting News! 📣\n",
      "\n",
      "Join us for the Microsoft Fabric & AI Learning Hackathon! 🚀 Data/AI Enthusiasts and Practitioners, this is your chance to upskill and build the next generation of Data + AI solutions with Microsoft Fabric. 💡\n",
      "\n",
      "Following the success of the Microsoft Fabric Global AI Hackathon, we're now coordinating a bigger and better event through the DevPost Platform. With a 7-week submission period and $10,000 in prizes, there's never been a better time to learn and create! 💰\n",
      "\n",
      "Register now at [Microsoft Fabric & AI Learning Hackathon](https://microsoftfabric.devpost.com) and start building your solution with Microsoft Fabric.\n",
      "\n",
      "While you're expanding your skills, don't forget to check out the latest features in Visual Studio Code:\n",
      "1. [MSAL-based Microsoft Authentication](https://code.visualstudio.com/updates/v1_94#_msal-based-microsoft-authentication)\n",
      "2. [Automated Test Setup (Experimental)](https://code.visualstudio.com/updates/v1_94#_automated-test-setup-experimental)\n",
      "3. [Gradle for Java](https://code.visualstudio.com/updates/v1_84#_gradle-for-java)\n",
      "\n",
      "Happy coding! 💻\n",
      "\n",
      "#MicrosoftFabric #Hackathon #DataAI #VSCode\n"
     ]
    }
   ],
   "source": [
    "print(generate_llm_answer(content, reranked_documents, completion_model=\"Mistral-small\"))"
   ]
  },
  {
   "cell_type": "code",
   "execution_count": 18,
   "metadata": {},
   "outputs": [
    {
     "name": "stdout",
     "output_type": "stream",
     "text": [
      "Here's a short LinkedIn post:\n",
      "\n",
      "**Exciting News!**\n",
      "\n",
      "Get ready to upskill and build the next generation of Data + AI solutions with Microsoft Fabric! The Microsoft Fabric & AI Learning Hackathon is now open for registration. This 7-week hackathon offers a total of $10,000 in prizes and is open to anyone looking to expand their learning through a special Microsoft Learn Skills Challenge focused on Microsoft Fabric.\n",
      "\n",
      "Whether you're a beginner or a seasoned maker, all are welcome to participate! To learn more and register, visit [https://microsoftfabric.devpost.com](https://microsoftfabric.devpost.com).\n",
      "\n",
      "**What's new in Visual Studio Code?**\n",
      "\n",
      "* [Learn what is new in the Visual Studio Code September 2024 Release (1.94) - MSAL-based Microsoft Authentication](https://code.visualstudio.com/updates/v1_94#_msal-based-microsoft-authentication)\n",
      "* [Learn what is new in the Visual Studio Code September 2024 Release (1.94) - Automated test setup (Experimental)](https://code.visualstudio.com/updates/v1_94#_automated-test-setup-experimental)\n",
      "* [Learn what is new in the Visual Studio Code October 2023 Release (1.84) - Gradle for Java](https://code.visualstudio.com/updates/v1_84#_gradle-for-java)\n",
      "\n",
      "Stay tuned for more updates on the Microsoft Fabric & AI Learning Hackathon!\n"
     ]
    }
   ],
   "source": [
    "print(generate_llm_answer(content, reranked_documents, completion_model=\"meta-llama-3-8b-instruct\"))"
   ]
  }
 ],
 "metadata": {
  "kernelspec": {
   "display_name": "base",
   "language": "python",
   "name": "python3"
  },
  "language_info": {
   "codemirror_mode": {
    "name": "ipython",
    "version": 3
   },
   "file_extension": ".py",
   "mimetype": "text/x-python",
   "name": "python",
   "nbconvert_exporter": "python",
   "pygments_lexer": "ipython3",
   "version": "3.12.0"
  }
 },
 "nbformat": 4,
 "nbformat_minor": 2
}
