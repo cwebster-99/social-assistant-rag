{
 "cells": [
  {
   "cell_type": "markdown",
   "metadata": {},
   "source": [
    "# RAG exploration\n",
    "\n",
    "![goal_post](goal_post.png)"
   ]
  },
  {
   "cell_type": "markdown",
   "metadata": {},
   "source": [
    "## 🤖 Social assistant, with **off the shelf model**"
   ]
  },
  {
   "cell_type": "code",
   "execution_count": 9,
   "metadata": {},
   "outputs": [],
   "source": [
    "url='https://microsoftfabric.devpost.com/'"
   ]
  },
  {
   "cell_type": "code",
   "execution_count": 10,
   "metadata": {},
   "outputs": [
    {
     "name": "stdout",
     "output_type": "stream",
     "text": [
      "{\"content\": \"\\n\\n\\n\\n  \\n\\n\\n\\n\\n\\n\\n\\n\\n\\n\\nMicrosoft Fabric and AI Learning Hackathon: Building the next wave of innovative AI powered data analytics applications with Microsoft Fabric - Devpost\\n\\n\\n\\n\\n\\n\\n\\n\\n\\n\\n\\n\\n\\n\\n\\n\\n\\n\\n\\n\\n\\n\\n\\n\\n\\n\\n\\n\\n\\n\\n\\n\\n\\n\\n\\n\\n\\n\\n\\n\\n \\n\\n\\n\\n\\n\\n\\n\\n\\n\\n\\n\\n\\n\\n\\n\\n\\n\\n\\n \\n\\n\\n\\n\\n      Log in\\n \\n\\n\\n\\n        Sign up\\n      \\n \\n\\n\\n\\n\\n\\n\\n\\n\\n\\n\\n\\n\\n\\n\\nDevpost\\n\\n\\nHackathons\\nProjects\\nHost a public hackathon\\n\\n\\n\\n\\n\\n\\nDevpost for Teams\\n\\n\\nTeams login\\nRequest a demo\\n\\n\\n\\n\\n\\n    Hackathons\\n\\n\\n\\n\\n    Projects\\n\\n\\n\\nBlog\\n\\n\\n\\n\\n    Host a hackathon\\n\\n\\n\\n\\n\\n\\n\\n\\n\\n\\n\\n\\n\\n\\n\\n\\n\\n\\n\\n\\nProduct\\n\\n\\n\\n\\n\\n\\n\\nDevpost\\nGrow your developer ecosystem and promote your platform.\\n\\n\\n\\nHackathons\\nProjects\\nHost a public hackathon\\n\\n\\n\\n\\n\\n\\nDevpost for Teams\\nDrive innovation, collaboration, and retention within your organization.\\n\\n\\n\\nTeams login\\nRequest a demo\\n\\n\\n\\n\\n\\n\\n\\n\\n\\n    Hackathons\\n\\n\\n\\n\\n    Projects\\n\\n\\n\\nBlog\\n\\n\\n\\n\\n\\nHost a hackathon\\n\\n\\n\\n\\n\\n\\n\\n\\n\\n\\n\\n\\n\\n\\n\\n \\n\\n\\n\\n\\n      Log in\\n \\n\\n\\n\\n        Sign up\\n      \\n \\n\\n\\n\\n\\n\\n\\n\\n\\n\\n\\n\\n\\nMicrosoft Fabric and AI Learning Hackathon\\n\\n\\nDeadline: Nov 12, 2024 @  5:00pm PST\\n\\n\\nJoin hackathon\\n\\n\\n\\n\\n\\n\\n\\n\\n\\n\\n\\n\\n\\n\\n\\n\\n\\n\\nDescend\\n\\n\\n\\nOverview\\n\\nMy projects\\n\\nParticipants (4399)\\nResources\\nRules\\n\\nProject gallery\\n\\n\\nUpdates\\n\\n\\nDiscussions\\n\\n\\n\\n\\n\\n\\n\\n\\n\\n\\n\\nMicrosoft Fabric and AI Learning Hackathon\\nBuilding the next wave of innovative AI powered data analytics applications with Microsoft Fabric\\n\\n\\n\\n\\nJoin hackathon\\n\\n\\n\\n\\nWho can participate\\n\\nAbove legal age of majority in country of residence\\n\\n        Specific\\n         countries/territories excluded \\n\\n\\n\\nView full rules\\n\\n\\n\\n\\n\\n\\n\\n\\n\\n\\nNovember 12 at 8:00pm EST to deadline\\n        \\n\\n\\nView schedule\\n\\n\\n\\n\\n        Deadline: Nov 12, 2024 @  5:00pm PST\\n      \\n\\n\\n\\n\\n\\n\\nApple\\n \\n\\n\\nGoogle\\n \\n\\n\\nOutlook\\n \\n\\n\\n\\n\\n\\n\\n\\n\\n\\n\\n\\n\\n                Online\\n              \\n\\n\\n\\n\\n\\n\\n                Public\\n              \\n \\n\\n\\n\\n$10,000 in prizes\\n          \\n\\n4399\\n            participants\\n          \\n\\n\\n\\n\\n\\n\\n\\n\\n\\n                Microsoft\\n              \\n \\n\\n\\n\\n\\nManaged by Devpost\\n \\n\\n \\n\\n\\n\\n\\n\\n                  Beginner Friendly\\n                \\n \\n\\n                  Databases\\n                \\n \\n\\n                  Machine Learning/AI\\n                \\n \\n\\n\\n\\n\\n\\n\\n\\n\\n\\n\\n\\n\\n\\n\\n\\nWelcome to the Microsoft Fabric and AI Learning Hackathon!\\u00a0\\n\\nThis is your chance to dive deep into the future of AI and cloud innovation, leveraging the powerful capabilities of Microsoft Fabric and Azure OpenAI services. Whether you're an AI enthusiast, a cloud computing expert, or a database guru, this hackathon is the perfect platform to showcase your skills and creativity.\\nMicrosoft Fabric is an integrated platform that combines data engineering, data warehousing, and data science in a seamless environment. It provides a unified experience for managing and analyzing data, enabling organizations to harness the power of their data more efficiently. With built-in AI capabilities, it allows users to automate processes, gain deeper insights, and accelerate decision-making, making it an essential tool for modern data-driven businesses.\\nTo ensure that you have all the tools necessary to build the next AI innovation with Microsoft Fabric and Azure Open AI, we are offering free access to Microsoft Fabric in addition to an Azure Open AI Proxy service that will allow you to use AI services without an Azure account.\\nWe are also providing a variety of live informational sessions and workshops to help expand your knowledge in an interactive setting. These events will be livestreamed by the Microsoft Reactor to YouTube.\\u00a0 You can view the full schedule and register to attend these sessions here. These will provide the opportunity to ask questions to the organizers & \\u00a0judges, but if you have questions outside of these event you can also join us for our upcoming AMA sessions (Sep 17) (Oct 8) on the Microsoft Tech Community. \\u00a0Additionally, you can join us in the Microsoft Fabric Community Forums and Devpost Discord for Q&A / support! \\nThis hackathon is more than just a competition\\u2014it's an opportunity to learn, innovate, and connect with like-minded individuals who are passionate about shaping the future of technology. We can't wait to see the incredible solutions you'll create!\\n\\n\\n\\n\\n          Requirements\\n        \\n\\n\\n\\nWhat to Build\\nComplete the Microsoft Learn AI Skills Challenge (Microsoft Fabric) and build a new Fabric solution that leverages Azure OpenAI services and falls into one of the following hackathon categories.\\n\\n\\nHackathon Categories:\\n\\n\\nMicrosoft Fabric + AI Innovation\\n\\n\\nA solution that solves a real world problem with Microsoft Fabric by implementing any concept or collection of concepts related to Artificial Intelligence.\\u00a0\\n\\n\\nThis could include a document analysis service that uses AI Skills or an Azure OpenAI based solution to implement a retrieval augmented generation architecture, training and deployment of a custom object detection model, anomaly detection, predictive forecasting, or any other modern application of AI within Microsoft Fabric. \\n\\n\\n\\n\\nReal-Time Intelligence in Microsoft Fabric\\n\\n\\nA solution that uses Real-Time Intelligence (RTI) in Microsoft Fabric\\u00a0 to solve a real world problem.\\u00a0\\n\\n\\nRTI is all about data integration, so showcasing how you can use RTI to integrate data from multiple sources and make real-time decisions based on that data is key. Any good RTI solution would include real-time data processing, real-time analytics, real-time monitoring, real-time alerting, or any other real-time application within Microsoft Fabric.\\u00a0\\n\\n\\nUsing RTI as a source of data for your AI application is also a great way to showcase the power of RTI. Showcasing open-source integrations like Apache Kafka or AMQP, and showing cross-cloud or hybrid cloud integrations is also a plus, but not required.\\n\\n\\n\\n\\nAzure Database for PostgreSQL Integration\\n\\n\\nA real-world solution that uses Azure Database for PostgreSQL as an OLTP main transactional database and the transactional data has to be offloaded to Fabric for near real-time analytics. This could involve using Event streaming connector for Azure Database for PostgreSQL or other techniques such as Dataflows (Gen2), Notebooks, or Data Factory Pipelines. Data landing in Fabric can be used in near real-time intelligent scenarios such as anomaly detection, predictive maintenance and other predictive scenarios, or personalized recommendations amongst others.\\n\\n\\n\\n\\nSQL And AI Integration\\n\\n\\nA real-world solution that is built on Microsoft Fabric that leverages Azure SQL Database or SQL Server, and augmented by AI capabilities. This could involve using Mirroring, Eventstream's Change Data Capture (CDC) Connector for Azure SQL DB, or using ingestion techniques such as Dataflows (Gen2), Notebooks, Data Factory Pipelines, and AI-driven analytics and insights.\\n\\nGet started with an Azure SQL database for free!\\n\\n\\n\\nAzure Cosmos DB + Microsoft Fabric Integration\\n\\n\\nA real-world solution that is built on Microsoft Fabric, leveraging Azure Cosmos DB. This could involve using Mirroring for enabling analytics/BI on Cosmos DB data, Eventstream's Change Data Capture (CDC) Connector for Cosmos DB, or using ingestion techniques such as Dataflows (Gen2), or Data Factory Pipelines.\\n\\nGet started with Cosmos DB for free!\\n\\n\\n\\n\\n\\n\\u00a0\\nImportant Notes:\\n\\nAdditional consideration will be given if you are able to document how you were able to accomplish your solution using any of the available Copilots in Microsoft Fabric.\\nMicrosoft Learn AI Skills Challenge (Microsoft Fabric) opens on September 24, 2024 and must be completed by all team members by November 1, 2024. You will be required to list all team members who are part of the project on your submission form, including their Microsoft Learn usernames.\\n\\n\\nWhat to Submit\\n\\n\\n\\nProvide a URL to your code repository for judging and testing. \\n\\n\\n\\nIf private, please share with testing@devpost.com and pdecarlo@microsoft.com\\u00a0\\n\\n\\n\\nInclude a video (about 3-5 minutes) that demonstrates your submission. Videos must be uploaded to YouTube, Vimeo, or Facebook Video and made public.\\n\\n\\n\\nJudges are not required to view videos beyond 5 minutes.\\n\\n\\n\\nProvide your and your teammates\\u2019 Microsoft Learn username(s).\\u00a0\\n\\n\\n\\nPlease note: all team members must complete the Microsoft Learn AI Skills Challenge (Microsoft Fabric). \\n\\n\\n\\nPlease check the Official Rules for full details.\\n\\n\\n\\n\\n\\n      Hackathon Sponsors\\n    \\n\\n\\n\\n\\n\\n\\n\\n\\n      Prizes\\n    \\n\\n\\n\\n$10,000 in prizes\\n\\n\\n\\n\\n\\n\\n\\n                Grand Prize Winner\\n              \\n\\n\\n\\u2022 $2,500 USD\\n\\u2022 Social media recognition\\n\\u2022 Opportunity to be featured in a Microsoft blog post following winner announcements\\n\\u2022 Microsoft participation badge\\n\\n\\n\\n\\n\\n\\n\\n                Best Microsoft Fabric + AI Innovation\\n              \\n\\n\\n\\u2022 $1,500 USD\\n\\u2022 Social media recognition\\n\\u2022 Opportunity to be featured in a Microsoft blog post following winner announcements\\n\\u2022 Microsoft participation badge\\n\\n\\n\\n\\n\\n\\n\\n\\n                Best use of Real-Time Intelligence in Microsoft Fabric\\n              \\n\\n\\n\\u2022 $1,500 USD\\n\\u2022 Social media recognition\\n\\u2022 Opportunity to be featured in a Microsoft blog post following winner announcements\\n\\u2022 Microsoft participation badge\\n\\n\\n\\n\\n\\n\\n\\n                Best Azure Database for PostgreSQL Integration\\n              \\n\\n\\n\\u2022 $1,500 USD\\n\\u2022 Social media recognition\\n\\u2022 Opportunity to be featured in a Microsoft blog post following winner announcements\\n\\u2022 Microsoft participation badge\\n\\n\\n\\n\\n\\n\\n\\n\\n\\n                Best SQL And AI Integration\\n              \\n\\n\\n\\u2022 $1,500 USD\\n\\u2022 Social media recognition\\n\\u2022 Opportunity to be featured in a Microsoft blog post following winner announcements\\n\\u2022 Microsoft participation badge\\n\\n\\n\\n\\n\\n\\n\\n                Best Azure Cosmos DB + Microsoft Fabric Integration\\n              \\n\\n\\n\\u2022 $1,500 USD\\n\\u2022 Social media recognition\\n\\u2022 Opportunity to be featured in a Microsoft blog post following winner announcements\\n\\u2022 Microsoft participation badge\\n\\n\\n\\n\\n\\n\\n\\n      Devpost Achievements\\n    \\n\\n\\nSubmitting to this hackathon could earn you:\\n\\n\\n\\n\\n\\n\\n\\n\\n      Judges\\n    \\n\\n\\n\\n\\n\\n\\n\\n\\n\\n\\n\\n\\nA panel of qualified judges\\nwill be announced soon\\n\\n\\n\\n\\n\\n\\n\\n\\n\\n      Judging Criteria\\n    \\n\\n\\n\\n\\nAlignment with hackathon category\\n        Does the solution fit into one or more of the five Hackathon Categories?\\n      \\n\\nInnovation / Impact\\n        Does the solution have real-world relevance? Does the solution solve a clearly defined problem that could be beneficial to others?\\n      \\n\\nDocumentation / Reproducibility\\n        Is the solution clearly documented in a GitHub repo that makes it easy for others to follow along and reproduce your solution? Is a video demonstration included in the submission?\\n      \\n\\nVideo Demonstration\\n        Does the submission include a link to a video demonstration of the solution in action? Does the video clearly depict the solution\\u2019s use of Microsoft Fabric features and capabilities and demonstrate how the solution makes use of artificial intelligence?\\n      \\n\\n\\n\\n\\n\\n\\n\\n      Questions?\\n      Email the hackathon manager\\n\\n\\n\\n\\n\\n      Invite others to compete\\n    \\n\\n\\n\\n\\n\\n\\n\\n\\n\\n\\n\\n\\n\\n\\n\\n\\n\\n\\n\\n\\n\\n\\n\\n\\n\\n\\n\\n\\n\\n\\n    This site is protected by reCAPTCHA and the Google\\n    Privacy Policy and\\n    Terms of Service apply.\\n  \\n\\n\\n\\n\\n\\n\\n\\n\\n\\n\\n\\n\\nDevpost\\n\\nAbout\\nCareers\\nContact\\nHelp\\n\\n\\n\\n\\n\\nHackathons\\n\\nBrowse hackathons\\nExplore projects\\nHost a hackathon\\nHackathon guides\\n\\n\\n\\n\\n\\nPortfolio\\n\\nYour projects\\nYour hackathons\\nSettings\\n\\n\\n\\n\\n\\nConnect\\n\\n\\n\\n\\n\\n\\n\\n                Twitter\\n              \\n\\n\\n\\n\\n\\n\\n\\n\\n                Discord\\n              \\n\\n\\n\\n\\n\\n\\n\\n\\n                Facebook\\n              \\n\\n\\n\\n\\n\\n\\n\\n\\n                LinkedIn\\n              \\n\\n\\n\\n\\n\\n\\n\\n\\n\\n\\n\\u00a9 2024 Devpost, Inc. All rights reserved.\\n\\nCommunity guidelines\\nSecurity\\nCA notice\\nPrivacy policy\\nTerms of service\\n\\n\\n\\n\\n\\n\\n\\n\\n\\n\\n\\n\\n\\n\"}\n"
     ]
    }
   ],
   "source": [
    "import requests\n",
    "from bs4 import BeautifulSoup\n",
    "import json\n",
    "\n",
    "# Fetch the content from the URL\n",
    "response = requests.get(url)\n",
    "soup = BeautifulSoup(response.content, 'html.parser')\n",
    "\n",
    "# Extract the content of the blog post\n",
    "blog_post_content = soup.get_text()\n",
    "\n",
    "# Convert the content to JSON\n",
    "content = json.dumps({\"content\": blog_post_content})\n",
    "\n",
    "print(content)"
   ]
  },
  {
   "cell_type": "code",
   "execution_count": 11,
   "metadata": {},
   "outputs": [],
   "source": [
    "# Messages to give LLM, to create a short LinkedIn post based on a blog post\n",
    "\n",
    "system_message = \"\"\"\n",
    "You are a social assistant who writes creative content. You will politely decline any other requests from the user not related to creating content. Don't talk about a single VS Code release and don't talk about release dates at all. Instead, only talk about the relevant features. Don't include made up links, but do provide real links to the VS Code release notes for specific features. You format all your responses as Markdown unless otherwise specified. Avoid wrapping your entire response in a markdown code element.\n",
    "\"\"\"\n",
    "messages = [\n",
    "    {\"role\": \"system\", \"content\": system_message},\n",
    "    {\"role\": \"user\", \"content\": f\"Create a very short LinkedIn post using the following: {content}\"}\n",
    "]"
   ]
  },
  {
   "cell_type": "code",
   "execution_count": 12,
   "metadata": {},
   "outputs": [
    {
     "name": "stdout",
     "output_type": "stream",
     "text": [
      "🌟 Excited to announce the **Microsoft Fabric and AI Learning Hackathon**! Join us in building the future of AI-powered data analytics applications using Microsoft Fabric. \n",
      "\n",
      "With $10,000 in prizes and a chance to showcase your creativity, this is more than just a competition—it's an opportunity to learn and innovate alongside fellow tech enthusiasts. \n",
      "\n",
      "🗓️ Deadline: November 12, 2024, at 5 PM PST\n",
      "\n",
      "Whether you're a database expert or an AI enthusiast, bring your skills to the table and help shape tomorrow's technology! \n",
      "\n",
      "👉 For more details, visit [Devpost](https://devpost.com). Let's create something amazing! 🚀 #MicrosoftFabric #AIHackathon #Innovation\n"
     ]
    }
   ],
   "source": [
    "import os\n",
    "from openai import OpenAI\n",
    "\n",
    "token = os.environ[\"GITHUB_TOKEN\"]\n",
    "endpoint = \"https://models.inference.ai.azure.com\"\n",
    "model_name = \"gpt-4o-mini\"\n",
    "\n",
    "client = OpenAI(\n",
    "    base_url=endpoint,\n",
    "    api_key=token,\n",
    ")\n",
    "\n",
    "response = client.chat.completions.create(\n",
    "    messages=messages,\n",
    "    temperature=1.0,\n",
    "    top_p=1.0,\n",
    "    max_tokens=1000,\n",
    "    model=model_name\n",
    ")\n",
    "\n",
    "print(response.choices[0].message.content)"
   ]
  },
  {
   "cell_type": "markdown",
   "metadata": {},
   "source": [
    "## 📚 Text search"
   ]
  },
  {
   "cell_type": "markdown",
   "metadata": {},
   "source": [
    "#### Extract key topics & features"
   ]
  },
  {
   "cell_type": "code",
   "execution_count": 13,
   "metadata": {},
   "outputs": [],
   "source": [
    "# Messages to give LLM, to extract key topics & features\n",
    "\n",
    "topic_system_message = \"\"\"\n",
    "You are an expert at conducting entity extraction. Generate top topics and functionality based on provided content. Focus on identifying key concepts, themes, and relevant terms related to specific developer tooling, with a particular emphasis on VS Code features. Make sure entities you extract are directly relevant to the developer environment described. Don't mention specific dates or years. Use advanced search techniques, including Boolean operators and keyword variations, to craft precise, optimized queries that yield the most relevant results. Aim for clarity, relevance, and depth to cover all aspects of the topic efficiently. Simply list the phrases without additional explanation or details. Do not list any bullet points or numbered lists or quotation marks.\n",
    "\"\"\"\n",
    "\n",
    "topic_user_message=\"Come up with a list of top 5 developer tooling topics, functionalities, and relevant terms, with a strong focus on VS Code features and integrations based on the following content: \""
   ]
  },
  {
   "cell_type": "code",
   "execution_count": 14,
   "metadata": {},
   "outputs": [
    {
     "name": "stdout",
     "output_type": "stream",
     "text": [
      "Microsoft Fabric integration  \n",
      "\n",
      "AI-powered data analytics  \n",
      "\n",
      "Real-Time Intelligence in Microsoft Fabric  \n",
      "\n",
      "Azure OpenAI services  \n",
      "\n",
      "SQL and AI integration in developer tools  \n",
      "\n"
     ]
    }
   ],
   "source": [
    "def extract_key_topics(content, model=\"gpt-4o-mini\"):\n",
    "    messages = [\n",
    "        {\"role\": \"system\", \"content\": topic_system_message},\n",
    "        {\"role\": \"user\", \"content\": topic_user_message+content}\n",
    "    ]\n",
    "\n",
    "    response = client.chat.completions.create(\n",
    "        model=model,\n",
    "        messages=messages,\n",
    "        temperature=0.3,\n",
    "    )\n",
    "\n",
    "    key_topics = response.choices[0].message.content.split('\\n')\n",
    "    return key_topics\n",
    "\n",
    "key_topics = extract_key_topics(content)\n",
    "print(\"\\n\".join([topic + \"\\n\" for topic in key_topics]))"
   ]
  },
  {
   "cell_type": "markdown",
   "metadata": {},
   "source": [
    "#### Load & filter data"
   ]
  },
  {
   "cell_type": "code",
   "execution_count": 15,
   "metadata": {},
   "outputs": [
    {
     "data": {
      "text/html": [
       "<div>\n",
       "<style scoped>\n",
       "    .dataframe tbody tr th:only-of-type {\n",
       "        vertical-align: middle;\n",
       "    }\n",
       "\n",
       "    .dataframe tbody tr th {\n",
       "        vertical-align: top;\n",
       "    }\n",
       "\n",
       "    .dataframe thead th {\n",
       "        text-align: right;\n",
       "    }\n",
       "</style>\n",
       "<table border=\"1\" class=\"dataframe\">\n",
       "  <thead>\n",
       "    <tr style=\"text-align: right;\">\n",
       "      <th></th>\n",
       "      <th>content</th>\n",
       "      <th>url</th>\n",
       "    </tr>\n",
       "  </thead>\n",
       "  <tbody>\n",
       "    <tr>\n",
       "      <th>0</th>\n",
       "      <td>See what is new in the Visual Studio Code July...</td>\n",
       "      <td>https://code.visualstudio.com/updates/July_201...</td>\n",
       "    </tr>\n",
       "    <tr>\n",
       "      <th>1</th>\n",
       "      <td>See what is new in the Visual Studio Code July...</td>\n",
       "      <td>https://code.visualstudio.com/updates/July_201...</td>\n",
       "    </tr>\n",
       "    <tr>\n",
       "      <th>2</th>\n",
       "      <td>See what is new in the Visual Studio Code July...</td>\n",
       "      <td>https://code.visualstudio.com/updates/July_201...</td>\n",
       "    </tr>\n",
       "    <tr>\n",
       "      <th>3</th>\n",
       "      <td>See what is new in the Visual Studio Code July...</td>\n",
       "      <td>https://code.visualstudio.com/updates/July_201...</td>\n",
       "    </tr>\n",
       "    <tr>\n",
       "      <th>4</th>\n",
       "      <td>See what is new in the Visual Studio Code July...</td>\n",
       "      <td>https://code.visualstudio.com/updates/July_201...</td>\n",
       "    </tr>\n",
       "  </tbody>\n",
       "</table>\n",
       "</div>"
      ],
      "text/plain": [
       "                                             content  \\\n",
       "0  See what is new in the Visual Studio Code July...   \n",
       "1  See what is new in the Visual Studio Code July...   \n",
       "2  See what is new in the Visual Studio Code July...   \n",
       "3  See what is new in the Visual Studio Code July...   \n",
       "4  See what is new in the Visual Studio Code July...   \n",
       "\n",
       "                                                 url  \n",
       "0  https://code.visualstudio.com/updates/July_201...  \n",
       "1  https://code.visualstudio.com/updates/July_201...  \n",
       "2  https://code.visualstudio.com/updates/July_201...  \n",
       "3  https://code.visualstudio.com/updates/July_201...  \n",
       "4  https://code.visualstudio.com/updates/July_201...  "
      ]
     },
     "execution_count": 15,
     "metadata": {},
     "output_type": "execute_result"
    }
   ],
   "source": [
    "# load split_docs_contents.json as a dataframe\n",
    "import pandas as pd\n",
    "df = pd.read_json('split_docs_contents.json')\n",
    "df.head()"
   ]
  },
  {
   "cell_type": "code",
   "execution_count": 16,
   "metadata": {},
   "outputs": [],
   "source": [
    "# Filter rows based on column: 'content'\n",
    "df_clean = df[(df['content'].str.contains(\"2023\", regex=False, na=False)) | (df['content'].str.contains(\"2024\", regex=False, na=False))]"
   ]
  },
  {
   "cell_type": "markdown",
   "metadata": {},
   "source": [
    "#### Perform text search"
   ]
  },
  {
   "cell_type": "code",
   "execution_count": 17,
   "metadata": {
    "vscode": {
     "languageId": "ruby"
    }
   },
   "outputs": [
    {
     "name": "stdout",
     "output_type": "stream",
     "text": [
      "                                                content  \\\n",
      "4088  Learn what is new in the Visual Studio Code Au...   \n",
      "3803  Learn what is new in the Visual Studio Code Fe...   \n",
      "4153  Learn what is new in the Visual Studio Code Se...   \n",
      "4181  Learn what is new in the Visual Studio Code Oc...   \n",
      "3378  Learn what is new in the Visual Studio Code Ap...   \n",
      "3702  Learn what is new in the Visual Studio Code No...   \n",
      "3372  Learn what is new in the Visual Studio Code Ap...   \n",
      "3244  Learn what is new in the Visual Studio Code Ja...   \n",
      "3607  Learn what is new in the Visual Studio Code Au...   \n",
      "3787  Learn what is new in the Visual Studio Code Fe...   \n",
      "\n",
      "                                                    url  \n",
      "4088  https://code.visualstudio.com/updates/v1_93#re...  \n",
      "3803  https://code.visualstudio.com/updates/v1_87#fo...  \n",
      "4153  https://code.visualstudio.com/updates/v1_94#py...  \n",
      "4181  https://code.visualstudio.com/updates/v1_95#co...  \n",
      "3378  https://code.visualstudio.com/updates/v1_78#au...  \n",
      "3702  https://code.visualstudio.com/updates/v1_85#ja...  \n",
      "3372  https://code.visualstudio.com/updates/v1_78#gi...  \n",
      "3244  https://code.visualstudio.com/updates/v1_75#li...  \n",
      "3607  https://code.visualstudio.com/updates/v1_82#co...  \n",
      "3787  https://code.visualstudio.com/updates/v1_87#tr...  \n"
     ]
    }
   ],
   "source": [
    "from rank_bm25 import BM25Okapi\n",
    "import pandas as pd\n",
    "\n",
    "def bm25_search(df_clean, key_topics, top_n=10):\n",
    "    # Tokenize the content of each document\n",
    "    tokenized_corpus = [doc.split(\" \") for doc in df_clean['content']]\n",
    "    \n",
    "    # Initialize BM25\n",
    "    bm25 = BM25Okapi(tokenized_corpus)\n",
    "    \n",
    "    # Combine key topics into a single query string\n",
    "    query = \" \".join(key_topics)\n",
    "    tokenized_query = query.split(\" \")\n",
    "    \n",
    "    # Get BM25 scores for the query\n",
    "    scores = bm25.get_scores(tokenized_query)\n",
    "    \n",
    "    # Get the indices of the top_n documents\n",
    "    top_n_indices = scores.argsort()[-top_n:][::-1]\n",
    "    \n",
    "    # Retrieve the top_n documents\n",
    "    top_n_docs = df_clean.iloc[top_n_indices]\n",
    "    \n",
    "    return top_n_docs\n",
    "\n",
    "# Perform the search and output the top 10 documents\n",
    "top_10_docs = bm25_search(df_clean, key_topics, top_n=10)\n",
    "print(top_10_docs)"
   ]
  },
  {
   "cell_type": "markdown",
   "metadata": {},
   "source": [
    "## 🔢 Semantic reranking"
   ]
  },
  {
   "cell_type": "code",
   "execution_count": 18,
   "metadata": {},
   "outputs": [],
   "source": [
    "# Messages to give LLM, to re-rank the documents based on semantic relevance\n",
    "\n",
    "rerank_system_message = \"\"\"\n",
    "You are tasked with re-ranking a set of documents based on their relevance to given search queries. The documents have already been retrieved based on initial search criteria, but your role is to refine the ranking by considering factors such as semantic similarity to the query, context relevance, and alignment with the user's intent. Focus on documents that provide concise, high-quality information, ensuring that the top-ranked documents answer the query as accurately and completely as possible. If you can't rank them based on semantic relevance, give higher rank to documents with VS Code features that were published most recently. Make sure to return the full name of the feature and URL of each release note document, and format your response as a Markdown list item, with the URL in parentheses. Do not include any additional information or commentary about the documents. List a variety of documents, and give more weight to documents that mention Python and or notebooks features. Only return the top 3 documents and reference them by the feature name, not the release version or date.\n",
    "\"\"\"\n",
    "\n",
    "rerank_user_message=f\"Here are some documents: {top_10_docs.to_json(orient='records')}. Re-rank those documents based on these key VS Code functionalities: {key_topics}. Only return the top 3 documents.\""
   ]
  },
  {
   "cell_type": "code",
   "execution_count": 19,
   "metadata": {},
   "outputs": [
    {
     "name": "stdout",
     "output_type": "stream",
     "text": [
      "- Run tests with coverage in Python (https://code.visualstudio.com/updates/v1_94#run-tests-with-coverage)\n",
      "\n",
      "- Translate your strings using Azure AI Translator (https://code.visualstudio.com/updates/v1_87#for-extension-authors:-preview-of-`@vscode\\/l10n-dev`-and-azure-ai-translator)\n",
      "\n",
      "- Renamed SQL to MS SQL (https://code.visualstudio.com/updates/v1_93#renamed-\\\"sql\\\"-to-\\\"ms-sql\\\")\n",
      "\n"
     ]
    }
   ],
   "source": [
    "def rerank_documents(model=\"gpt-4o-mini\"):\n",
    "    # Truncate the user message to fit within the token limit\n",
    "    max_length = 7500  # Adjust this value as needed to fit within the token limit\n",
    "    truncated_user_message = rerank_user_message[:max_length]\n",
    "\n",
    "    messages = [\n",
    "        {\"role\": \"system\", \"content\": rerank_system_message},\n",
    "        {\"role\": \"user\", \"content\": truncated_user_message}\n",
    "    ]\n",
    "\n",
    "    response = client.chat.completions.create(\n",
    "        model=model,\n",
    "        messages=messages,\n",
    "        temperature=0.7,\n",
    "    )\n",
    "\n",
    "    reranked_documents = response.choices[0].message.content.split('\\n')\n",
    "    return reranked_documents\n",
    "\n",
    "reranked_documents = rerank_documents()\n",
    "print(\"\\n\".join([doc + \"\\n\" for doc in reranked_documents]))\n"
   ]
  },
  {
   "cell_type": "markdown",
   "metadata": {},
   "source": [
    "## 🧠 Social assistant, with **relevant features**"
   ]
  },
  {
   "cell_type": "code",
   "execution_count": 21,
   "metadata": {},
   "outputs": [
    {
     "name": "stdout",
     "output_type": "stream",
     "text": [
      "🚀 Exciting news! Join the **Microsoft Fabric and AI Learning Hackathon** and be part of building the next wave of innovative AI-powered data analytics applications. This is a fantastic opportunity to leverage Microsoft Fabric and Azure OpenAI services. \n",
      "\n",
      "🗓️ **Deadline:** Nov 12, 2024  \n",
      "💰 **Prizes:** $10,000 in total!\n",
      "\n",
      "Whether you're an AI enthusiast or a cloud computing expert, this hackathon is your platform to showcase your skills and creativity. \n",
      "\n",
      "For more details and to join, check out the hackathon on [Devpost](https://devpost.com).\n",
      "\n",
      "While you're at it, enhance your coding experience with these amazing VS Code features:\n",
      "- Run tests with coverage in Python: [Learn more](https://code.visualstudio.com/updates/v1_94#run-tests-with-coverage)\n",
      "- Translate your strings using Azure AI Translator: [Explore here](https://code.visualstudio.com/updates/v1_87#for-extension-authors:-preview-of-`@vscode\\\\/l10n-dev`-and-azure-ai-translator)\n",
      "- Renamed SQL to MS SQL: [Find out more](https://code.visualstudio.com/updates/v1_93#renamed-\\\\\"sql\\\\\"-to-\\\\\"ms-sql\\\\\") \n",
      "\n",
      "Let's innovate together! 💡\n"
     ]
    }
   ],
   "source": [
    "def generate_llm_answer(content, context, completion_model):\n",
    "    messages = [\n",
    "        {\"role\": \"system\", \"content\": system_message},\n",
    "        {\"role\": \"user\", \"content\":  f\"Create a very short LinkedIn post using the following content: {content}. Also, include the following established VS Code features along with their URLs in your response, so folks seeing the post can try them out: {context}.\"}\n",
    "    ]\n",
    "\n",
    "    response = client.chat.completions.create(\n",
    "        model=completion_model,\n",
    "        messages=messages,\n",
    "        temperature=0.3\n",
    "    )\n",
    "\n",
    "    answer = response.choices[0].message.content\n",
    "    return answer\n",
    "\n",
    "print(generate_llm_answer(content, reranked_documents, completion_model=\"gpt-4o-mini\"))"
   ]
  },
  {
   "cell_type": "markdown",
   "metadata": {},
   "source": [
    "#### Compare responses between chat models"
   ]
  },
  {
   "cell_type": "code",
   "execution_count": 22,
   "metadata": {},
   "outputs": [
    {
     "name": "stdout",
     "output_type": "stream",
     "text": [
      "📣 **Microsoft Fabric and AI Learning Hackathon** 📣\n",
      "\n",
      "Join us in building the next wave of innovative AI-powered data analytics applications with Microsoft Fabric! This is your chance to showcase your skills and creativity, whether you're an AI enthusiast, a cloud computing expert, or a database guru.\n",
      "\n",
      "Microsoft Fabric is an integrated platform that combines data engineering, data warehousing, and data science in a seamless environment. With built-in AI capabilities, it allows users to automate processes, gain deeper insights, and accelerate decision-making.\n",
      "\n",
      "To get started, we're offering free access to Microsoft Fabric and an Azure OpenAI Proxy service. Plus, we're hosting live informational sessions and workshops to help expand your knowledge.\n",
      "\n",
      "**Hackathon Categories:**\n",
      "1. Microsoft Fabric + AI Innovation\n",
      "2. Real-Time Intelligence in Microsoft Fabric\n",
      "3. Azure Database for PostgreSQL Integration\n",
      "4. SQL And AI Integration\n",
      "5. Azure Cosmos DB + Microsoft Fabric Integration\n",
      "\n",
      "**Prizes:** $10,000 in total, including a Grand Prize and category-specific awards.\n",
      "\n",
      "While you're at it, why not try out some of the latest features in Visual Studio Code?\n",
      "- [Run tests with coverage in Python](https://code.visualstudio.com/updates/v1_94#run-tests-with-coverage)\n",
      "- [Translate your strings using Azure AI Translator](https://code.visualstudio.com/updates/v1_87#for-extension-authors:-preview-of-`@vscode\\\\/l10n-dev`-and-azure-ai-translator)\n",
      "- [Renamed SQL to MS SQL](https://code.visualstudio.com/updates/v1_93#renamed-\\\\\"sql\\\\\"-to-\\\\\"ms-sql\\\\\")\n",
      "\n",
      "Let's innovate together! 🚀\n",
      "\n",
      "[Join the Hackathon](#)\n",
      "\n",
      "#MicrosoftFabric #AI #Hackathon #VSCode\n"
     ]
    }
   ],
   "source": [
    "print(generate_llm_answer(content, reranked_documents, completion_model=\"Mistral-small\"))"
   ]
  },
  {
   "cell_type": "code",
   "execution_count": 24,
   "metadata": {},
   "outputs": [
    {
     "name": "stdout",
     "output_type": "stream",
     "text": [
      "Here's a LinkedIn post based on the content you provided:\n",
      "\n",
      "**Microsoft Fabric and AI Learning Hackathon: Building the next wave of innovative AI powered data analytics applications**\n",
      "\n",
      "Are you ready to dive deep into the future of AI and cloud innovation? Join the Microsoft Fabric and AI Learning Hackathon, a unique opportunity to showcase your skills and creativity in building innovative AI powered data analytics applications!\n",
      "\n",
      "**What to Build**\n",
      "\n",
      "Complete the Microsoft Learn AI Skills Challenge (Microsoft Fabric) and build a new Fabric solution that leverages Azure OpenAI services and falls into one of the following hackathon categories:\n",
      "\n",
      "* Microsoft Fabric + AI Innovation\n",
      "* Real-Time Intelligence in Microsoft Fabric\n",
      "* Azure Database for PostgreSQL Integration\n",
      "* SQL And AI Integration\n",
      "* Azure Cosmos DB + Microsoft Fabric Integration\n",
      "\n",
      "**What to Submit**\n",
      "\n",
      "* Provide a URL to your code repository for judging and testing\n",
      "* Include a video (about 3-5 minutes) that demonstrates your submission\n",
      "* Provide your and your teammates' Microsoft Learn username(s)\n",
      "\n",
      "**Judging Criteria**\n",
      "\n",
      "* Alignment with hackathon category\n",
      "* Innovation / Impact\n",
      "* Documentation / Reproducibility\n",
      "* Video Demonstration\n",
      "\n",
      "**Prizes**\n",
      "\n",
      "* $10,000 in prizes\n",
      "* Grand Prize Winner: $2,500 USD, social media recognition, opportunity to be featured in a Microsoft blog post, and Microsoft participation badge\n",
      "* Best Microsoft Fabric + AI Innovation: $1,500 USD, social media recognition, opportunity to be featured in a Microsoft blog post, and Microsoft participation badge\n",
      "* And more!\n",
      "\n",
      "**Get Started**\n",
      "\n",
      "Join the hackathon and start building your innovative AI powered data analytics application today! Don't forget to check out the official rules and guidelines for more information.\n",
      "\n",
      "**VS Code Features to Try Out**\n",
      "\n",
      "* Run tests with coverage in Python: [https://code.visualstudio.com/updates/v1_94#run-tests-with-coverage](https://code.visualstudio.com/updates/v1_94#run-tests-with-coverage)\n",
      "* Translate your strings using Azure AI Translator: [https://code.visualstudio.com/updates/v1_87#for-extension-authors:-preview-of-`@vscode\\\\/l10n-dev`-and-azure-ai-translator](https://code.visualstudio.com/updates/v1_87#for-extension-authors:-preview-of-`@vscode\\\\/l10n-dev`-and-azure-ai-translator)\n",
      "* Renamed SQL to MS SQL: [https://code.visualstudio.com/updates/v1_93#renamed-\\\\\"sql\\\\\"-to-\\\\\"ms-sql\\\\\"](https://code.visualstudio.com/updates/v1_93#renamed-\\\\\"sql\\\\\"-to-\\\\\"ms-sql\\\\\\\")\n",
      "\n",
      "Join the hackathon and start building your innovative AI powered data analytics application today!\n"
     ]
    }
   ],
   "source": [
    "print(generate_llm_answer(content, reranked_documents, completion_model=\"meta-llama-3-8b-instruct\"))"
   ]
  },
  {
   "cell_type": "markdown",
   "metadata": {},
   "source": [
    "#### Try it out yourself! 😄"
   ]
  },
  {
   "cell_type": "markdown",
   "metadata": {},
   "source": [
    "VS Code extensions used for this demo:\n",
    "\n",
    "![extensions](vsc_extensions.png)"
   ]
  }
 ],
 "metadata": {
  "kernelspec": {
   "display_name": "base",
   "language": "python",
   "name": "python3"
  },
  "language_info": {
   "codemirror_mode": {
    "name": "ipython",
    "version": 3
   },
   "file_extension": ".py",
   "mimetype": "text/x-python",
   "name": "python",
   "nbconvert_exporter": "python",
   "pygments_lexer": "ipython3",
   "version": "3.12.2"
  }
 },
 "nbformat": 4,
 "nbformat_minor": 2
}
