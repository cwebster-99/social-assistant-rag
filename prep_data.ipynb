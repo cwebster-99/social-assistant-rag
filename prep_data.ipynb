{
 "cells": [
  {
   "cell_type": "markdown",
   "metadata": {},
   "source": [
    "## 📥 Fetch data"
   ]
  },
  {
   "cell_type": "markdown",
   "metadata": {},
   "source": [
    "We'll fetch contents from VS Code docs ([GitHub repo](https://github.com/microsoft/vscode-docs/blob/main)) and save it into a json format that can be used for RAG models."
   ]
  },
  {
   "cell_type": "code",
   "execution_count": null,
   "metadata": {},
   "outputs": [],
   "source": [
    "# Recursively fetch all md files from a GH repo using gh api\n",
    "\n",
    "import os\n",
    "import requests\n",
    "from dotenv import load_dotenv\n",
    "\n",
    "load_dotenv()\n",
    "\n",
    "REPO_OWNER = 'microsoft'\n",
    "REPO_NAME = 'vscode-docs'\n",
    "\n",
    "def get_markdown_files_from_github(path=''):\n",
    "    url = f'https://api.github.com/repos/{REPO_OWNER}/{REPO_NAME}/contents/{path}'\n",
    "    headers = {\n",
    "        'Authorization': f'token {os.getenv(\"GITHUB_TOKEN\")}'\n",
    "    }\n",
    "    response = requests.get(url, headers=headers)\n",
    "    markdown_files = []\n",
    "\n",
    "    if response.status_code == 200:\n",
    "        files = response.json()\n",
    "\n",
    "        for file in files:\n",
    "            if file['type'] == 'dir':\n",
    "                markdown_files += get_markdown_files_from_github(file['path'])\n",
    "            elif file['type'] == 'file' and file['name'].endswith('.md'):\n",
    "                markdown_files.append(file['path'])\n",
    "\n",
    "        return markdown_files\n",
    "    else:\n",
    "        raise Exception(f\"Error fetching repo contents: {response.status_code}\")\n",
    "    \n",
    "# Test: Print all markdown files in the learn/students folder\n",
    "print(get_markdown_files_from_github(\"learn/students\"))"
   ]
  },
  {
   "cell_type": "code",
   "execution_count": null,
   "metadata": {},
   "outputs": [],
   "source": [
    "# Get the content of a file using gh api\n",
    "\n",
    "import base64\n",
    "\n",
    "def get_file_content(file_path):\n",
    "    url = f'https://api.github.com/repos/{REPO_OWNER}/{REPO_NAME}/contents/{file_path}'\n",
    "    headers = {\n",
    "        'Authorization': f'token {os.getenv(\"GITHUB_TOKEN\")}'\n",
    "    }\n",
    "    response = requests.get(url, headers=headers)\n",
    "\n",
    "    if response.status_code == 200:\n",
    "        file_content = base64.b64decode(response.json()['content']).decode('utf-8')\n",
    "        title = next(line.replace('# ', '') for line in file_content.split('\\n') if line.startswith('#'))\n",
    "        description = next((line.split(':', 1)[1].strip() for line in file_content.split('\\n') if line.lower().startswith('metadescription:')), '')\n",
    "        content = file_content.split(title, 1)[1].strip()\n",
    "        content = content.replace('<!-- DOWNLOAD_LINKS_PLACEHOLDER -->', '')\n",
    "        full_content = f\"{description}\\n\\n{content}\"\n",
    "        return {\n",
    "            'content': full_content, # rate limit could be exceeded for free tier\n",
    "            'url': f'https://github.com/{REPO_OWNER}/{REPO_NAME}/blob/main/{file_path}',\n",
    "        }\n",
    "    else:\n",
    "        raise Exception(f\"Error fetching file content: {response.status_code}\")\n",
    "    \n",
    "# Test: Print a sample file content\n",
    "get_file_content(\"release-notes/v1_94.md\")"
   ]
  },
  {
   "cell_type": "code",
   "execution_count": null,
   "metadata": {},
   "outputs": [],
   "source": [
    "# Iterate over each file in `release-notes` and get the content\n",
    "\n",
    "docs_files = get_markdown_files_from_github(\"release-notes\")\n",
    "\n",
    "docs_contents = []\n",
    "for file_path in docs_files:\n",
    "    content = get_file_content(file_path)\n",
    "    docs_contents.append(content)\n",
    "\n",
    "# Print the first few contents to verify\n",
    "for doc in docs_contents[:5]:\n",
    "    print(doc)\n",
    "    print('---')"
   ]
  },
  {
   "cell_type": "markdown",
   "metadata": {},
   "source": [
    "## 🧩 Chunk data"
   ]
  },
  {
   "cell_type": "code",
   "execution_count": null,
   "metadata": {},
   "outputs": [],
   "source": [
    "headers_to_split_on = [\n",
    "    (\"#\", \"Header 1\"),\n",
    "    (\"##\", \"Header 2\"),\n",
    "    (\"###\", \"Header 3\")\n",
    "]"
   ]
  },
  {
   "cell_type": "code",
   "execution_count": null,
   "metadata": {},
   "outputs": [],
   "source": [
    "from langchain.text_splitter import MarkdownHeaderTextSplitter\n",
    "\n",
    "# Initialize the MarkdownHeaderTextSplitter with the headers to split on\n",
    "markdown_splitter = MarkdownHeaderTextSplitter(headers_to_split_on)\n",
    "\n",
    "# Split each document content and retain the URL\n",
    "split_docs = []\n",
    "for doc in docs_contents:\n",
    "    split_content = markdown_splitter.split_text(doc['content'])\n",
    "    for split in split_content:\n",
    "        split_docs.append({\n",
    "            'content': split.page_content,\n",
    "            'url': doc['url'],\n",
    "        })\n",
    "\n",
    "# Print the first few split documents to verify\n",
    "for split_doc in split_docs[:5]:\n",
    "    print(split_doc)\n",
    "    print('---')"
   ]
  },
  {
   "cell_type": "markdown",
   "metadata": {},
   "source": [
    "### 📄 Output as Json"
   ]
  },
  {
   "cell_type": "code",
   "execution_count": null,
   "metadata": {},
   "outputs": [],
   "source": [
    "import json\n",
    "\n",
    "# Write split_docs_dicts to a JSON file\n",
    "with open('split_docs_contents.json', 'w') as f:\n",
    "    json.dump(split_docs, f, indent=4)"
   ]
  }
 ],
 "metadata": {
  "kernelspec": {
   "display_name": "base",
   "language": "python",
   "name": "python3"
  },
  "language_info": {
   "codemirror_mode": {
    "name": "ipython",
    "version": 3
   },
   "file_extension": ".py",
   "mimetype": "text/x-python",
   "name": "python",
   "nbconvert_exporter": "python",
   "pygments_lexer": "ipython3",
   "version": "3.12.4"
  }
 },
 "nbformat": 4,
 "nbformat_minor": 2
}
